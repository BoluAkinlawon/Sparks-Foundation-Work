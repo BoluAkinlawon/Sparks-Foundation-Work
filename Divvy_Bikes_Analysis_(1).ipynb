{
  "cells": [
    {
      "cell_type": "markdown",
      "metadata": {
        "id": "view-in-github",
        "colab_type": "text"
      },
      "source": [
        "<a href=\"https://colab.research.google.com/github/BoluAkinlawon/Sparks-Foundation-Work/blob/main/Divvy_Bikes_Analysis_(1).ipynb\" target=\"_parent\"><img src=\"https://colab.research.google.com/assets/colab-badge.svg\" alt=\"Open In Colab\"/></a>"
      ]
    },
    {
      "cell_type": "code",
      "execution_count": null,
      "metadata": {
        "colab": {
          "base_uri": "https://localhost:8080/"
        },
        "id": "TaNXndaEGwUk",
        "outputId": "b2846eb7-8d6c-4138-a7c0-a58111a059ea"
      },
      "outputs": [
        {
          "output_type": "stream",
          "name": "stdout",
          "text": [
            "Requirement already satisfied: pyspark in /usr/local/lib/python3.10/dist-packages (3.4.1)\n",
            "Requirement already satisfied: py4j==0.10.9.7 in /usr/local/lib/python3.10/dist-packages (from pyspark) (0.10.9.7)\n"
          ]
        }
      ],
      "source": [
        "!pip install pyspark"
      ]
    },
    {
      "cell_type": "code",
      "execution_count": null,
      "metadata": {
        "id": "zpRbkjyEHGyN"
      },
      "outputs": [],
      "source": [
        "import pyspark\n",
        "import pandas as pd\n",
        "import glob"
      ]
    },
    {
      "cell_type": "code",
      "execution_count": null,
      "metadata": {
        "id": "DNDDY8JZCx5K"
      },
      "outputs": [],
      "source": [
        "#csv_files = glob.glob('*.csv')"
      ]
    },
    {
      "cell_type": "code",
      "execution_count": null,
      "metadata": {
        "id": "6KgqF18ECx5K"
      },
      "outputs": [],
      "source": [
        "#dfs = []"
      ]
    },
    {
      "cell_type": "code",
      "execution_count": null,
      "metadata": {
        "id": "ENaBaxd3Cx5L"
      },
      "outputs": [],
      "source": [
        "#for file in csv_files:\n",
        "#   df = pd.read_csv(file)\n",
        " #  dfs.append(df)\n"
      ]
    },
    {
      "cell_type": "code",
      "execution_count": null,
      "metadata": {
        "id": "avLBsW0YCx5M"
      },
      "outputs": [],
      "source": [
        "#merged_df = pd.concat(dfs, ignore_index=True)\n"
      ]
    },
    {
      "cell_type": "code",
      "execution_count": null,
      "metadata": {
        "id": "FarmP4v5Cx5M"
      },
      "outputs": [],
      "source": [
        "#merged_df.to_csv('merged_dataset.csv', index=False)"
      ]
    },
    {
      "cell_type": "code",
      "execution_count": null,
      "metadata": {
        "colab": {
          "base_uri": "https://localhost:8080/",
          "height": 713
        },
        "id": "zzJ4hBQpHJTq",
        "outputId": "b58300a7-b724-499b-84ed-b9d27fb5fa24"
      },
      "outputs": [
        {
          "output_type": "execute_result",
          "data": {
            "text/plain": [
              "                  ride_id  rideable_type           started_at  \\\n",
              "0        EC2DE40644C6B0F4   classic_bike     23/05/2022 23:06   \n",
              "1        1C31AD03897EE385   classic_bike     11/05/2022 08:53   \n",
              "2        1542FBEC830415CF   classic_bike     26/05/2022 18:36   \n",
              "3        6FF59852924528F8   classic_bike     10/05/2022 07:30   \n",
              "4        483C52CAAE12E3AC   classic_bike     10/05/2022 17:31   \n",
              "...                   ...            ...                  ...   \n",
              "3055247  B8F5BDBFAE7195E6   classic_bike  2022-09-15 17:31:15   \n",
              "3055248  9332335BF567902E  electric_bike  2022-09-21 08:23:51   \n",
              "3055249  B803083F632A9E74    docked_bike  2022-09-21 14:46:04   \n",
              "3055250  CD0124BB37C72190   classic_bike  2022-09-06 15:17:00   \n",
              "3055251        B4B9886652            NaN                  NaN   \n",
              "\n",
              "                    ended_at                 start_station_name  \\\n",
              "0           23/05/2022 23:40             Wabash Ave & Grand Ave   \n",
              "1           11/05/2022 09:31  DuSable Lake Shore Dr & Monroe St   \n",
              "2           26/05/2022 18:58            Clinton St & Madison St   \n",
              "3           10/05/2022 07:38            Clinton St & Madison St   \n",
              "4           10/05/2022 17:36            Clinton St & Madison St   \n",
              "...                      ...                                ...   \n",
              "3055247  2022-09-15 17:45:02             State St & Randolph St   \n",
              "3055248  2022-09-21 08:29:29        Michigan Ave & Jackson Blvd   \n",
              "3055249  2022-09-21 15:18:02        Michigan Ave & Jackson Blvd   \n",
              "3055250  2022-09-06 15:25:12             State St & Randolph St   \n",
              "3055251                  NaN                                NaN   \n",
              "\n",
              "        start_station_id              end_station_name end_station_id  \\\n",
              "0           TA1307000117        Halsted St & Roscoe St   TA1309000025   \n",
              "1                  13300   Field Blvd & South Water St          15534   \n",
              "2           TA1305000032       Wood St & Milwaukee Ave          13221   \n",
              "3           TA1305000032        Clark St & Randolph St   TA1305000030   \n",
              "4           TA1305000032           Morgan St & Lake St   TA1306000015   \n",
              "...                  ...                           ...            ...   \n",
              "3055247     TA1305000029          McClurg Ct & Ohio St   TA1306000029   \n",
              "3055248     TA1309000002  Stetson Ave & South Water St   TA1308000029   \n",
              "3055249     TA1309000002             Adler Planetarium          13431   \n",
              "3055250     TA1305000029          McClurg Ct & Ohio St   TA1306000029   \n",
              "3055251              NaN                           NaN            NaN   \n",
              "\n",
              "         start_lat  start_lng    end_lat    end_lng member_casual  \n",
              "0        41.891466 -87.626761  41.943670 -87.648950        member  \n",
              "1        41.880958 -87.616743  41.886349 -87.617517        member  \n",
              "2        41.882242 -87.641066  41.907655 -87.672552        member  \n",
              "3        41.882242 -87.641066  41.884576 -87.631890        member  \n",
              "4        41.882242 -87.641066  41.885779 -87.651025        member  \n",
              "...            ...        ...        ...        ...           ...  \n",
              "3055247  41.884621 -87.627834  41.892592 -87.617289        member  \n",
              "3055248  41.877843 -87.624083  41.886835 -87.622320        member  \n",
              "3055249  41.877850 -87.624080  41.866095 -87.607267        casual  \n",
              "3055250  41.884621 -87.627834  41.892592 -87.617289        member  \n",
              "3055251        NaN        NaN        NaN        NaN           NaN  \n",
              "\n",
              "[3055252 rows x 13 columns]"
            ],
            "text/html": [
              "\n",
              "\n",
              "  <div id=\"df-3beed1dc-3152-4f07-a8df-145ae6226687\">\n",
              "    <div class=\"colab-df-container\">\n",
              "      <div>\n",
              "<style scoped>\n",
              "    .dataframe tbody tr th:only-of-type {\n",
              "        vertical-align: middle;\n",
              "    }\n",
              "\n",
              "    .dataframe tbody tr th {\n",
              "        vertical-align: top;\n",
              "    }\n",
              "\n",
              "    .dataframe thead th {\n",
              "        text-align: right;\n",
              "    }\n",
              "</style>\n",
              "<table border=\"1\" class=\"dataframe\">\n",
              "  <thead>\n",
              "    <tr style=\"text-align: right;\">\n",
              "      <th></th>\n",
              "      <th>ride_id</th>\n",
              "      <th>rideable_type</th>\n",
              "      <th>started_at</th>\n",
              "      <th>ended_at</th>\n",
              "      <th>start_station_name</th>\n",
              "      <th>start_station_id</th>\n",
              "      <th>end_station_name</th>\n",
              "      <th>end_station_id</th>\n",
              "      <th>start_lat</th>\n",
              "      <th>start_lng</th>\n",
              "      <th>end_lat</th>\n",
              "      <th>end_lng</th>\n",
              "      <th>member_casual</th>\n",
              "    </tr>\n",
              "  </thead>\n",
              "  <tbody>\n",
              "    <tr>\n",
              "      <th>0</th>\n",
              "      <td>EC2DE40644C6B0F4</td>\n",
              "      <td>classic_bike</td>\n",
              "      <td>23/05/2022 23:06</td>\n",
              "      <td>23/05/2022 23:40</td>\n",
              "      <td>Wabash Ave &amp; Grand Ave</td>\n",
              "      <td>TA1307000117</td>\n",
              "      <td>Halsted St &amp; Roscoe St</td>\n",
              "      <td>TA1309000025</td>\n",
              "      <td>41.891466</td>\n",
              "      <td>-87.626761</td>\n",
              "      <td>41.943670</td>\n",
              "      <td>-87.648950</td>\n",
              "      <td>member</td>\n",
              "    </tr>\n",
              "    <tr>\n",
              "      <th>1</th>\n",
              "      <td>1C31AD03897EE385</td>\n",
              "      <td>classic_bike</td>\n",
              "      <td>11/05/2022 08:53</td>\n",
              "      <td>11/05/2022 09:31</td>\n",
              "      <td>DuSable Lake Shore Dr &amp; Monroe St</td>\n",
              "      <td>13300</td>\n",
              "      <td>Field Blvd &amp; South Water St</td>\n",
              "      <td>15534</td>\n",
              "      <td>41.880958</td>\n",
              "      <td>-87.616743</td>\n",
              "      <td>41.886349</td>\n",
              "      <td>-87.617517</td>\n",
              "      <td>member</td>\n",
              "    </tr>\n",
              "    <tr>\n",
              "      <th>2</th>\n",
              "      <td>1542FBEC830415CF</td>\n",
              "      <td>classic_bike</td>\n",
              "      <td>26/05/2022 18:36</td>\n",
              "      <td>26/05/2022 18:58</td>\n",
              "      <td>Clinton St &amp; Madison St</td>\n",
              "      <td>TA1305000032</td>\n",
              "      <td>Wood St &amp; Milwaukee Ave</td>\n",
              "      <td>13221</td>\n",
              "      <td>41.882242</td>\n",
              "      <td>-87.641066</td>\n",
              "      <td>41.907655</td>\n",
              "      <td>-87.672552</td>\n",
              "      <td>member</td>\n",
              "    </tr>\n",
              "    <tr>\n",
              "      <th>3</th>\n",
              "      <td>6FF59852924528F8</td>\n",
              "      <td>classic_bike</td>\n",
              "      <td>10/05/2022 07:30</td>\n",
              "      <td>10/05/2022 07:38</td>\n",
              "      <td>Clinton St &amp; Madison St</td>\n",
              "      <td>TA1305000032</td>\n",
              "      <td>Clark St &amp; Randolph St</td>\n",
              "      <td>TA1305000030</td>\n",
              "      <td>41.882242</td>\n",
              "      <td>-87.641066</td>\n",
              "      <td>41.884576</td>\n",
              "      <td>-87.631890</td>\n",
              "      <td>member</td>\n",
              "    </tr>\n",
              "    <tr>\n",
              "      <th>4</th>\n",
              "      <td>483C52CAAE12E3AC</td>\n",
              "      <td>classic_bike</td>\n",
              "      <td>10/05/2022 17:31</td>\n",
              "      <td>10/05/2022 17:36</td>\n",
              "      <td>Clinton St &amp; Madison St</td>\n",
              "      <td>TA1305000032</td>\n",
              "      <td>Morgan St &amp; Lake St</td>\n",
              "      <td>TA1306000015</td>\n",
              "      <td>41.882242</td>\n",
              "      <td>-87.641066</td>\n",
              "      <td>41.885779</td>\n",
              "      <td>-87.651025</td>\n",
              "      <td>member</td>\n",
              "    </tr>\n",
              "    <tr>\n",
              "      <th>...</th>\n",
              "      <td>...</td>\n",
              "      <td>...</td>\n",
              "      <td>...</td>\n",
              "      <td>...</td>\n",
              "      <td>...</td>\n",
              "      <td>...</td>\n",
              "      <td>...</td>\n",
              "      <td>...</td>\n",
              "      <td>...</td>\n",
              "      <td>...</td>\n",
              "      <td>...</td>\n",
              "      <td>...</td>\n",
              "      <td>...</td>\n",
              "    </tr>\n",
              "    <tr>\n",
              "      <th>3055247</th>\n",
              "      <td>B8F5BDBFAE7195E6</td>\n",
              "      <td>classic_bike</td>\n",
              "      <td>2022-09-15 17:31:15</td>\n",
              "      <td>2022-09-15 17:45:02</td>\n",
              "      <td>State St &amp; Randolph St</td>\n",
              "      <td>TA1305000029</td>\n",
              "      <td>McClurg Ct &amp; Ohio St</td>\n",
              "      <td>TA1306000029</td>\n",
              "      <td>41.884621</td>\n",
              "      <td>-87.627834</td>\n",
              "      <td>41.892592</td>\n",
              "      <td>-87.617289</td>\n",
              "      <td>member</td>\n",
              "    </tr>\n",
              "    <tr>\n",
              "      <th>3055248</th>\n",
              "      <td>9332335BF567902E</td>\n",
              "      <td>electric_bike</td>\n",
              "      <td>2022-09-21 08:23:51</td>\n",
              "      <td>2022-09-21 08:29:29</td>\n",
              "      <td>Michigan Ave &amp; Jackson Blvd</td>\n",
              "      <td>TA1309000002</td>\n",
              "      <td>Stetson Ave &amp; South Water St</td>\n",
              "      <td>TA1308000029</td>\n",
              "      <td>41.877843</td>\n",
              "      <td>-87.624083</td>\n",
              "      <td>41.886835</td>\n",
              "      <td>-87.622320</td>\n",
              "      <td>member</td>\n",
              "    </tr>\n",
              "    <tr>\n",
              "      <th>3055249</th>\n",
              "      <td>B803083F632A9E74</td>\n",
              "      <td>docked_bike</td>\n",
              "      <td>2022-09-21 14:46:04</td>\n",
              "      <td>2022-09-21 15:18:02</td>\n",
              "      <td>Michigan Ave &amp; Jackson Blvd</td>\n",
              "      <td>TA1309000002</td>\n",
              "      <td>Adler Planetarium</td>\n",
              "      <td>13431</td>\n",
              "      <td>41.877850</td>\n",
              "      <td>-87.624080</td>\n",
              "      <td>41.866095</td>\n",
              "      <td>-87.607267</td>\n",
              "      <td>casual</td>\n",
              "    </tr>\n",
              "    <tr>\n",
              "      <th>3055250</th>\n",
              "      <td>CD0124BB37C72190</td>\n",
              "      <td>classic_bike</td>\n",
              "      <td>2022-09-06 15:17:00</td>\n",
              "      <td>2022-09-06 15:25:12</td>\n",
              "      <td>State St &amp; Randolph St</td>\n",
              "      <td>TA1305000029</td>\n",
              "      <td>McClurg Ct &amp; Ohio St</td>\n",
              "      <td>TA1306000029</td>\n",
              "      <td>41.884621</td>\n",
              "      <td>-87.627834</td>\n",
              "      <td>41.892592</td>\n",
              "      <td>-87.617289</td>\n",
              "      <td>member</td>\n",
              "    </tr>\n",
              "    <tr>\n",
              "      <th>3055251</th>\n",
              "      <td>B4B9886652</td>\n",
              "      <td>NaN</td>\n",
              "      <td>NaN</td>\n",
              "      <td>NaN</td>\n",
              "      <td>NaN</td>\n",
              "      <td>NaN</td>\n",
              "      <td>NaN</td>\n",
              "      <td>NaN</td>\n",
              "      <td>NaN</td>\n",
              "      <td>NaN</td>\n",
              "      <td>NaN</td>\n",
              "      <td>NaN</td>\n",
              "      <td>NaN</td>\n",
              "    </tr>\n",
              "  </tbody>\n",
              "</table>\n",
              "<p>3055252 rows × 13 columns</p>\n",
              "</div>\n",
              "      <button class=\"colab-df-convert\" onclick=\"convertToInteractive('df-3beed1dc-3152-4f07-a8df-145ae6226687')\"\n",
              "              title=\"Convert this dataframe to an interactive table.\"\n",
              "              style=\"display:none;\">\n",
              "\n",
              "  <svg xmlns=\"http://www.w3.org/2000/svg\" height=\"24px\"viewBox=\"0 0 24 24\"\n",
              "       width=\"24px\">\n",
              "    <path d=\"M0 0h24v24H0V0z\" fill=\"none\"/>\n",
              "    <path d=\"M18.56 5.44l.94 2.06.94-2.06 2.06-.94-2.06-.94-.94-2.06-.94 2.06-2.06.94zm-11 1L8.5 8.5l.94-2.06 2.06-.94-2.06-.94L8.5 2.5l-.94 2.06-2.06.94zm10 10l.94 2.06.94-2.06 2.06-.94-2.06-.94-.94-2.06-.94 2.06-2.06.94z\"/><path d=\"M17.41 7.96l-1.37-1.37c-.4-.4-.92-.59-1.43-.59-.52 0-1.04.2-1.43.59L10.3 9.45l-7.72 7.72c-.78.78-.78 2.05 0 2.83L4 21.41c.39.39.9.59 1.41.59.51 0 1.02-.2 1.41-.59l7.78-7.78 2.81-2.81c.8-.78.8-2.07 0-2.86zM5.41 20L4 18.59l7.72-7.72 1.47 1.35L5.41 20z\"/>\n",
              "  </svg>\n",
              "      </button>\n",
              "\n",
              "\n",
              "\n",
              "    <div id=\"df-a883a304-098c-4175-9161-8d05cd6e77c8\">\n",
              "      <button class=\"colab-df-quickchart\" onclick=\"quickchart('df-a883a304-098c-4175-9161-8d05cd6e77c8')\"\n",
              "              title=\"Suggest charts.\"\n",
              "              style=\"display:none;\">\n",
              "\n",
              "<svg xmlns=\"http://www.w3.org/2000/svg\" height=\"24px\"viewBox=\"0 0 24 24\"\n",
              "     width=\"24px\">\n",
              "    <g>\n",
              "        <path d=\"M19 3H5c-1.1 0-2 .9-2 2v14c0 1.1.9 2 2 2h14c1.1 0 2-.9 2-2V5c0-1.1-.9-2-2-2zM9 17H7v-7h2v7zm4 0h-2V7h2v10zm4 0h-2v-4h2v4z\"/>\n",
              "    </g>\n",
              "</svg>\n",
              "      </button>\n",
              "    </div>\n",
              "\n",
              "<style>\n",
              "  .colab-df-quickchart {\n",
              "    background-color: #E8F0FE;\n",
              "    border: none;\n",
              "    border-radius: 50%;\n",
              "    cursor: pointer;\n",
              "    display: none;\n",
              "    fill: #1967D2;\n",
              "    height: 32px;\n",
              "    padding: 0 0 0 0;\n",
              "    width: 32px;\n",
              "  }\n",
              "\n",
              "  .colab-df-quickchart:hover {\n",
              "    background-color: #E2EBFA;\n",
              "    box-shadow: 0px 1px 2px rgba(60, 64, 67, 0.3), 0px 1px 3px 1px rgba(60, 64, 67, 0.15);\n",
              "    fill: #174EA6;\n",
              "  }\n",
              "\n",
              "  [theme=dark] .colab-df-quickchart {\n",
              "    background-color: #3B4455;\n",
              "    fill: #D2E3FC;\n",
              "  }\n",
              "\n",
              "  [theme=dark] .colab-df-quickchart:hover {\n",
              "    background-color: #434B5C;\n",
              "    box-shadow: 0px 1px 3px 1px rgba(0, 0, 0, 0.15);\n",
              "    filter: drop-shadow(0px 1px 2px rgba(0, 0, 0, 0.3));\n",
              "    fill: #FFFFFF;\n",
              "  }\n",
              "</style>\n",
              "\n",
              "    <script>\n",
              "      async function quickchart(key) {\n",
              "        const containerElement = document.querySelector('#' + key);\n",
              "        const charts = await google.colab.kernel.invokeFunction(\n",
              "            'suggestCharts', [key], {});\n",
              "      }\n",
              "    </script>\n",
              "\n",
              "      <script>\n",
              "\n",
              "function displayQuickchartButton(domScope) {\n",
              "  let quickchartButtonEl =\n",
              "    domScope.querySelector('#df-a883a304-098c-4175-9161-8d05cd6e77c8 button.colab-df-quickchart');\n",
              "  quickchartButtonEl.style.display =\n",
              "    google.colab.kernel.accessAllowed ? 'block' : 'none';\n",
              "}\n",
              "\n",
              "        displayQuickchartButton(document);\n",
              "      </script>\n",
              "      <style>\n",
              "    .colab-df-container {\n",
              "      display:flex;\n",
              "      flex-wrap:wrap;\n",
              "      gap: 12px;\n",
              "    }\n",
              "\n",
              "    .colab-df-convert {\n",
              "      background-color: #E8F0FE;\n",
              "      border: none;\n",
              "      border-radius: 50%;\n",
              "      cursor: pointer;\n",
              "      display: none;\n",
              "      fill: #1967D2;\n",
              "      height: 32px;\n",
              "      padding: 0 0 0 0;\n",
              "      width: 32px;\n",
              "    }\n",
              "\n",
              "    .colab-df-convert:hover {\n",
              "      background-color: #E2EBFA;\n",
              "      box-shadow: 0px 1px 2px rgba(60, 64, 67, 0.3), 0px 1px 3px 1px rgba(60, 64, 67, 0.15);\n",
              "      fill: #174EA6;\n",
              "    }\n",
              "\n",
              "    [theme=dark] .colab-df-convert {\n",
              "      background-color: #3B4455;\n",
              "      fill: #D2E3FC;\n",
              "    }\n",
              "\n",
              "    [theme=dark] .colab-df-convert:hover {\n",
              "      background-color: #434B5C;\n",
              "      box-shadow: 0px 1px 3px 1px rgba(0, 0, 0, 0.15);\n",
              "      filter: drop-shadow(0px 1px 2px rgba(0, 0, 0, 0.3));\n",
              "      fill: #FFFFFF;\n",
              "    }\n",
              "  </style>\n",
              "\n",
              "      <script>\n",
              "        const buttonEl =\n",
              "          document.querySelector('#df-3beed1dc-3152-4f07-a8df-145ae6226687 button.colab-df-convert');\n",
              "        buttonEl.style.display =\n",
              "          google.colab.kernel.accessAllowed ? 'block' : 'none';\n",
              "\n",
              "        async function convertToInteractive(key) {\n",
              "          const element = document.querySelector('#df-3beed1dc-3152-4f07-a8df-145ae6226687');\n",
              "          const dataTable =\n",
              "            await google.colab.kernel.invokeFunction('convertToInteractive',\n",
              "                                                     [key], {});\n",
              "          if (!dataTable) return;\n",
              "\n",
              "          const docLinkHtml = 'Like what you see? Visit the ' +\n",
              "            '<a target=\"_blank\" href=https://colab.research.google.com/notebooks/data_table.ipynb>data table notebook</a>'\n",
              "            + ' to learn more about interactive tables.';\n",
              "          element.innerHTML = '';\n",
              "          dataTable['output_type'] = 'display_data';\n",
              "          await google.colab.output.renderOutput(dataTable, element);\n",
              "          const docLink = document.createElement('div');\n",
              "          docLink.innerHTML = docLinkHtml;\n",
              "          element.appendChild(docLink);\n",
              "        }\n",
              "      </script>\n",
              "    </div>\n",
              "  </div>\n"
            ]
          },
          "metadata": {},
          "execution_count": 8
        }
      ],
      "source": [
        "divvy_df = pd.read_csv(\"merged_dataset.csv\")\n",
        "divvy_df"
      ]
    },
    {
      "cell_type": "markdown",
      "metadata": {
        "id": "GzHK5-nyHNcy"
      },
      "source": [
        "DATA EXPLORATION"
      ]
    },
    {
      "cell_type": "code",
      "execution_count": null,
      "metadata": {
        "colab": {
          "base_uri": "https://localhost:8080/"
        },
        "id": "jcumw_OAHL7K",
        "outputId": "33861d3a-e79e-43b9-d94b-0b31827fa054"
      },
      "outputs": [
        {
          "output_type": "execute_result",
          "data": {
            "text/plain": [
              "ride_id                    0\n",
              "rideable_type              1\n",
              "started_at                 1\n",
              "ended_at                   1\n",
              "start_station_name    443011\n",
              "start_station_id      443011\n",
              "end_station_name      474134\n",
              "end_station_id        474134\n",
              "start_lat                  1\n",
              "start_lng                  1\n",
              "end_lat                 3579\n",
              "end_lng                 3579\n",
              "member_casual              1\n",
              "dtype: int64"
            ]
          },
          "metadata": {},
          "execution_count": 9
        }
      ],
      "source": [
        "divvy_df.isnull().sum()"
      ]
    },
    {
      "cell_type": "code",
      "execution_count": null,
      "metadata": {
        "colab": {
          "base_uri": "https://localhost:8080/"
        },
        "id": "MAOcHDZAHpGc",
        "outputId": "71bea712-aa2b-444e-adcb-73daa8d52ce8"
      },
      "outputs": [
        {
          "output_type": "stream",
          "name": "stdout",
          "text": [
            "<class 'pandas.core.frame.DataFrame'>\n",
            "RangeIndex: 3055252 entries, 0 to 3055251\n",
            "Data columns (total 13 columns):\n",
            " #   Column              Dtype  \n",
            "---  ------              -----  \n",
            " 0   ride_id             object \n",
            " 1   rideable_type       object \n",
            " 2   started_at          object \n",
            " 3   ended_at            object \n",
            " 4   start_station_name  object \n",
            " 5   start_station_id    object \n",
            " 6   end_station_name    object \n",
            " 7   end_station_id      object \n",
            " 8   start_lat           float64\n",
            " 9   start_lng           float64\n",
            " 10  end_lat             float64\n",
            " 11  end_lng             float64\n",
            " 12  member_casual       object \n",
            "dtypes: float64(4), object(9)\n",
            "memory usage: 303.0+ MB\n"
          ]
        }
      ],
      "source": [
        "divvy_df.info()"
      ]
    },
    {
      "cell_type": "code",
      "execution_count": null,
      "metadata": {
        "colab": {
          "base_uri": "https://localhost:8080/",
          "height": 748
        },
        "id": "_DDfvMK4H-6c",
        "outputId": "2fc29e20-e82f-41d9-f058-e1878c299e96"
      },
      "outputs": [
        {
          "output_type": "execute_result",
          "data": {
            "text/plain": [
              "                  ride_id  rideable_type           started_at  \\\n",
              "0        EC2DE40644C6B0F4   classic_bike     23/05/2022 23:06   \n",
              "1        1C31AD03897EE385   classic_bike     11/05/2022 08:53   \n",
              "2        1542FBEC830415CF   classic_bike     26/05/2022 18:36   \n",
              "3        6FF59852924528F8   classic_bike     10/05/2022 07:30   \n",
              "4        483C52CAAE12E3AC   classic_bike     10/05/2022 17:31   \n",
              "...                   ...            ...                  ...   \n",
              "3055246  5556A10A1BB5A00A  electric_bike  2022-09-04 19:34:22   \n",
              "3055247  B8F5BDBFAE7195E6   classic_bike  2022-09-15 17:31:15   \n",
              "3055248  9332335BF567902E  electric_bike  2022-09-21 08:23:51   \n",
              "3055249  B803083F632A9E74    docked_bike  2022-09-21 14:46:04   \n",
              "3055250  CD0124BB37C72190   classic_bike  2022-09-06 15:17:00   \n",
              "\n",
              "                    ended_at                 start_station_name  \\\n",
              "0           23/05/2022 23:40             Wabash Ave & Grand Ave   \n",
              "1           11/05/2022 09:31  DuSable Lake Shore Dr & Monroe St   \n",
              "2           26/05/2022 18:58            Clinton St & Madison St   \n",
              "3           10/05/2022 07:38            Clinton St & Madison St   \n",
              "4           10/05/2022 17:36            Clinton St & Madison St   \n",
              "...                      ...                                ...   \n",
              "3055246  2022-09-04 19:45:03            Canal St & Jackson Blvd   \n",
              "3055247  2022-09-15 17:45:02             State St & Randolph St   \n",
              "3055248  2022-09-21 08:29:29        Michigan Ave & Jackson Blvd   \n",
              "3055249  2022-09-21 15:18:02        Michigan Ave & Jackson Blvd   \n",
              "3055250  2022-09-06 15:25:12             State St & Randolph St   \n",
              "\n",
              "        start_station_id              end_station_name end_station_id  \\\n",
              "0           TA1307000117        Halsted St & Roscoe St   TA1309000025   \n",
              "1                  13300   Field Blvd & South Water St          15534   \n",
              "2           TA1305000032       Wood St & Milwaukee Ave          13221   \n",
              "3           TA1305000032        Clark St & Randolph St   TA1305000030   \n",
              "4           TA1305000032           Morgan St & Lake St   TA1306000015   \n",
              "...                  ...                           ...            ...   \n",
              "3055246            13138  Stetson Ave & South Water St   TA1308000029   \n",
              "3055247     TA1305000029          McClurg Ct & Ohio St   TA1306000029   \n",
              "3055248     TA1309000002  Stetson Ave & South Water St   TA1308000029   \n",
              "3055249     TA1309000002             Adler Planetarium          13431   \n",
              "3055250     TA1305000029          McClurg Ct & Ohio St   TA1306000029   \n",
              "\n",
              "         start_lat  start_lng    end_lat    end_lng member_casual  \n",
              "0        41.891466 -87.626761  41.943670 -87.648950        member  \n",
              "1        41.880958 -87.616743  41.886349 -87.617517        member  \n",
              "2        41.882242 -87.641066  41.907655 -87.672552        member  \n",
              "3        41.882242 -87.641066  41.884576 -87.631890        member  \n",
              "4        41.882242 -87.641066  41.885779 -87.651025        member  \n",
              "...            ...        ...        ...        ...           ...  \n",
              "3055246  41.877412 -87.640076  41.886835 -87.622320        member  \n",
              "3055247  41.884621 -87.627834  41.892592 -87.617289        member  \n",
              "3055248  41.877843 -87.624083  41.886835 -87.622320        member  \n",
              "3055249  41.877850 -87.624080  41.866095 -87.607267        casual  \n",
              "3055250  41.884621 -87.627834  41.892592 -87.617289        member  \n",
              "\n",
              "[2372752 rows x 13 columns]"
            ],
            "text/html": [
              "\n",
              "\n",
              "  <div id=\"df-84e345e5-6830-4bfa-8449-39dcd607b8b1\">\n",
              "    <div class=\"colab-df-container\">\n",
              "      <div>\n",
              "<style scoped>\n",
              "    .dataframe tbody tr th:only-of-type {\n",
              "        vertical-align: middle;\n",
              "    }\n",
              "\n",
              "    .dataframe tbody tr th {\n",
              "        vertical-align: top;\n",
              "    }\n",
              "\n",
              "    .dataframe thead th {\n",
              "        text-align: right;\n",
              "    }\n",
              "</style>\n",
              "<table border=\"1\" class=\"dataframe\">\n",
              "  <thead>\n",
              "    <tr style=\"text-align: right;\">\n",
              "      <th></th>\n",
              "      <th>ride_id</th>\n",
              "      <th>rideable_type</th>\n",
              "      <th>started_at</th>\n",
              "      <th>ended_at</th>\n",
              "      <th>start_station_name</th>\n",
              "      <th>start_station_id</th>\n",
              "      <th>end_station_name</th>\n",
              "      <th>end_station_id</th>\n",
              "      <th>start_lat</th>\n",
              "      <th>start_lng</th>\n",
              "      <th>end_lat</th>\n",
              "      <th>end_lng</th>\n",
              "      <th>member_casual</th>\n",
              "    </tr>\n",
              "  </thead>\n",
              "  <tbody>\n",
              "    <tr>\n",
              "      <th>0</th>\n",
              "      <td>EC2DE40644C6B0F4</td>\n",
              "      <td>classic_bike</td>\n",
              "      <td>23/05/2022 23:06</td>\n",
              "      <td>23/05/2022 23:40</td>\n",
              "      <td>Wabash Ave &amp; Grand Ave</td>\n",
              "      <td>TA1307000117</td>\n",
              "      <td>Halsted St &amp; Roscoe St</td>\n",
              "      <td>TA1309000025</td>\n",
              "      <td>41.891466</td>\n",
              "      <td>-87.626761</td>\n",
              "      <td>41.943670</td>\n",
              "      <td>-87.648950</td>\n",
              "      <td>member</td>\n",
              "    </tr>\n",
              "    <tr>\n",
              "      <th>1</th>\n",
              "      <td>1C31AD03897EE385</td>\n",
              "      <td>classic_bike</td>\n",
              "      <td>11/05/2022 08:53</td>\n",
              "      <td>11/05/2022 09:31</td>\n",
              "      <td>DuSable Lake Shore Dr &amp; Monroe St</td>\n",
              "      <td>13300</td>\n",
              "      <td>Field Blvd &amp; South Water St</td>\n",
              "      <td>15534</td>\n",
              "      <td>41.880958</td>\n",
              "      <td>-87.616743</td>\n",
              "      <td>41.886349</td>\n",
              "      <td>-87.617517</td>\n",
              "      <td>member</td>\n",
              "    </tr>\n",
              "    <tr>\n",
              "      <th>2</th>\n",
              "      <td>1542FBEC830415CF</td>\n",
              "      <td>classic_bike</td>\n",
              "      <td>26/05/2022 18:36</td>\n",
              "      <td>26/05/2022 18:58</td>\n",
              "      <td>Clinton St &amp; Madison St</td>\n",
              "      <td>TA1305000032</td>\n",
              "      <td>Wood St &amp; Milwaukee Ave</td>\n",
              "      <td>13221</td>\n",
              "      <td>41.882242</td>\n",
              "      <td>-87.641066</td>\n",
              "      <td>41.907655</td>\n",
              "      <td>-87.672552</td>\n",
              "      <td>member</td>\n",
              "    </tr>\n",
              "    <tr>\n",
              "      <th>3</th>\n",
              "      <td>6FF59852924528F8</td>\n",
              "      <td>classic_bike</td>\n",
              "      <td>10/05/2022 07:30</td>\n",
              "      <td>10/05/2022 07:38</td>\n",
              "      <td>Clinton St &amp; Madison St</td>\n",
              "      <td>TA1305000032</td>\n",
              "      <td>Clark St &amp; Randolph St</td>\n",
              "      <td>TA1305000030</td>\n",
              "      <td>41.882242</td>\n",
              "      <td>-87.641066</td>\n",
              "      <td>41.884576</td>\n",
              "      <td>-87.631890</td>\n",
              "      <td>member</td>\n",
              "    </tr>\n",
              "    <tr>\n",
              "      <th>4</th>\n",
              "      <td>483C52CAAE12E3AC</td>\n",
              "      <td>classic_bike</td>\n",
              "      <td>10/05/2022 17:31</td>\n",
              "      <td>10/05/2022 17:36</td>\n",
              "      <td>Clinton St &amp; Madison St</td>\n",
              "      <td>TA1305000032</td>\n",
              "      <td>Morgan St &amp; Lake St</td>\n",
              "      <td>TA1306000015</td>\n",
              "      <td>41.882242</td>\n",
              "      <td>-87.641066</td>\n",
              "      <td>41.885779</td>\n",
              "      <td>-87.651025</td>\n",
              "      <td>member</td>\n",
              "    </tr>\n",
              "    <tr>\n",
              "      <th>...</th>\n",
              "      <td>...</td>\n",
              "      <td>...</td>\n",
              "      <td>...</td>\n",
              "      <td>...</td>\n",
              "      <td>...</td>\n",
              "      <td>...</td>\n",
              "      <td>...</td>\n",
              "      <td>...</td>\n",
              "      <td>...</td>\n",
              "      <td>...</td>\n",
              "      <td>...</td>\n",
              "      <td>...</td>\n",
              "      <td>...</td>\n",
              "    </tr>\n",
              "    <tr>\n",
              "      <th>3055246</th>\n",
              "      <td>5556A10A1BB5A00A</td>\n",
              "      <td>electric_bike</td>\n",
              "      <td>2022-09-04 19:34:22</td>\n",
              "      <td>2022-09-04 19:45:03</td>\n",
              "      <td>Canal St &amp; Jackson Blvd</td>\n",
              "      <td>13138</td>\n",
              "      <td>Stetson Ave &amp; South Water St</td>\n",
              "      <td>TA1308000029</td>\n",
              "      <td>41.877412</td>\n",
              "      <td>-87.640076</td>\n",
              "      <td>41.886835</td>\n",
              "      <td>-87.622320</td>\n",
              "      <td>member</td>\n",
              "    </tr>\n",
              "    <tr>\n",
              "      <th>3055247</th>\n",
              "      <td>B8F5BDBFAE7195E6</td>\n",
              "      <td>classic_bike</td>\n",
              "      <td>2022-09-15 17:31:15</td>\n",
              "      <td>2022-09-15 17:45:02</td>\n",
              "      <td>State St &amp; Randolph St</td>\n",
              "      <td>TA1305000029</td>\n",
              "      <td>McClurg Ct &amp; Ohio St</td>\n",
              "      <td>TA1306000029</td>\n",
              "      <td>41.884621</td>\n",
              "      <td>-87.627834</td>\n",
              "      <td>41.892592</td>\n",
              "      <td>-87.617289</td>\n",
              "      <td>member</td>\n",
              "    </tr>\n",
              "    <tr>\n",
              "      <th>3055248</th>\n",
              "      <td>9332335BF567902E</td>\n",
              "      <td>electric_bike</td>\n",
              "      <td>2022-09-21 08:23:51</td>\n",
              "      <td>2022-09-21 08:29:29</td>\n",
              "      <td>Michigan Ave &amp; Jackson Blvd</td>\n",
              "      <td>TA1309000002</td>\n",
              "      <td>Stetson Ave &amp; South Water St</td>\n",
              "      <td>TA1308000029</td>\n",
              "      <td>41.877843</td>\n",
              "      <td>-87.624083</td>\n",
              "      <td>41.886835</td>\n",
              "      <td>-87.622320</td>\n",
              "      <td>member</td>\n",
              "    </tr>\n",
              "    <tr>\n",
              "      <th>3055249</th>\n",
              "      <td>B803083F632A9E74</td>\n",
              "      <td>docked_bike</td>\n",
              "      <td>2022-09-21 14:46:04</td>\n",
              "      <td>2022-09-21 15:18:02</td>\n",
              "      <td>Michigan Ave &amp; Jackson Blvd</td>\n",
              "      <td>TA1309000002</td>\n",
              "      <td>Adler Planetarium</td>\n",
              "      <td>13431</td>\n",
              "      <td>41.877850</td>\n",
              "      <td>-87.624080</td>\n",
              "      <td>41.866095</td>\n",
              "      <td>-87.607267</td>\n",
              "      <td>casual</td>\n",
              "    </tr>\n",
              "    <tr>\n",
              "      <th>3055250</th>\n",
              "      <td>CD0124BB37C72190</td>\n",
              "      <td>classic_bike</td>\n",
              "      <td>2022-09-06 15:17:00</td>\n",
              "      <td>2022-09-06 15:25:12</td>\n",
              "      <td>State St &amp; Randolph St</td>\n",
              "      <td>TA1305000029</td>\n",
              "      <td>McClurg Ct &amp; Ohio St</td>\n",
              "      <td>TA1306000029</td>\n",
              "      <td>41.884621</td>\n",
              "      <td>-87.627834</td>\n",
              "      <td>41.892592</td>\n",
              "      <td>-87.617289</td>\n",
              "      <td>member</td>\n",
              "    </tr>\n",
              "  </tbody>\n",
              "</table>\n",
              "<p>2372752 rows × 13 columns</p>\n",
              "</div>\n",
              "      <button class=\"colab-df-convert\" onclick=\"convertToInteractive('df-84e345e5-6830-4bfa-8449-39dcd607b8b1')\"\n",
              "              title=\"Convert this dataframe to an interactive table.\"\n",
              "              style=\"display:none;\">\n",
              "\n",
              "  <svg xmlns=\"http://www.w3.org/2000/svg\" height=\"24px\"viewBox=\"0 0 24 24\"\n",
              "       width=\"24px\">\n",
              "    <path d=\"M0 0h24v24H0V0z\" fill=\"none\"/>\n",
              "    <path d=\"M18.56 5.44l.94 2.06.94-2.06 2.06-.94-2.06-.94-.94-2.06-.94 2.06-2.06.94zm-11 1L8.5 8.5l.94-2.06 2.06-.94-2.06-.94L8.5 2.5l-.94 2.06-2.06.94zm10 10l.94 2.06.94-2.06 2.06-.94-2.06-.94-.94-2.06-.94 2.06-2.06.94z\"/><path d=\"M17.41 7.96l-1.37-1.37c-.4-.4-.92-.59-1.43-.59-.52 0-1.04.2-1.43.59L10.3 9.45l-7.72 7.72c-.78.78-.78 2.05 0 2.83L4 21.41c.39.39.9.59 1.41.59.51 0 1.02-.2 1.41-.59l7.78-7.78 2.81-2.81c.8-.78.8-2.07 0-2.86zM5.41 20L4 18.59l7.72-7.72 1.47 1.35L5.41 20z\"/>\n",
              "  </svg>\n",
              "      </button>\n",
              "\n",
              "\n",
              "\n",
              "    <div id=\"df-868d2543-5901-4ea3-9256-6eb193793a64\">\n",
              "      <button class=\"colab-df-quickchart\" onclick=\"quickchart('df-868d2543-5901-4ea3-9256-6eb193793a64')\"\n",
              "              title=\"Suggest charts.\"\n",
              "              style=\"display:none;\">\n",
              "\n",
              "<svg xmlns=\"http://www.w3.org/2000/svg\" height=\"24px\"viewBox=\"0 0 24 24\"\n",
              "     width=\"24px\">\n",
              "    <g>\n",
              "        <path d=\"M19 3H5c-1.1 0-2 .9-2 2v14c0 1.1.9 2 2 2h14c1.1 0 2-.9 2-2V5c0-1.1-.9-2-2-2zM9 17H7v-7h2v7zm4 0h-2V7h2v10zm4 0h-2v-4h2v4z\"/>\n",
              "    </g>\n",
              "</svg>\n",
              "      </button>\n",
              "    </div>\n",
              "\n",
              "<style>\n",
              "  .colab-df-quickchart {\n",
              "    background-color: #E8F0FE;\n",
              "    border: none;\n",
              "    border-radius: 50%;\n",
              "    cursor: pointer;\n",
              "    display: none;\n",
              "    fill: #1967D2;\n",
              "    height: 32px;\n",
              "    padding: 0 0 0 0;\n",
              "    width: 32px;\n",
              "  }\n",
              "\n",
              "  .colab-df-quickchart:hover {\n",
              "    background-color: #E2EBFA;\n",
              "    box-shadow: 0px 1px 2px rgba(60, 64, 67, 0.3), 0px 1px 3px 1px rgba(60, 64, 67, 0.15);\n",
              "    fill: #174EA6;\n",
              "  }\n",
              "\n",
              "  [theme=dark] .colab-df-quickchart {\n",
              "    background-color: #3B4455;\n",
              "    fill: #D2E3FC;\n",
              "  }\n",
              "\n",
              "  [theme=dark] .colab-df-quickchart:hover {\n",
              "    background-color: #434B5C;\n",
              "    box-shadow: 0px 1px 3px 1px rgba(0, 0, 0, 0.15);\n",
              "    filter: drop-shadow(0px 1px 2px rgba(0, 0, 0, 0.3));\n",
              "    fill: #FFFFFF;\n",
              "  }\n",
              "</style>\n",
              "\n",
              "    <script>\n",
              "      async function quickchart(key) {\n",
              "        const containerElement = document.querySelector('#' + key);\n",
              "        const charts = await google.colab.kernel.invokeFunction(\n",
              "            'suggestCharts', [key], {});\n",
              "      }\n",
              "    </script>\n",
              "\n",
              "      <script>\n",
              "\n",
              "function displayQuickchartButton(domScope) {\n",
              "  let quickchartButtonEl =\n",
              "    domScope.querySelector('#df-868d2543-5901-4ea3-9256-6eb193793a64 button.colab-df-quickchart');\n",
              "  quickchartButtonEl.style.display =\n",
              "    google.colab.kernel.accessAllowed ? 'block' : 'none';\n",
              "}\n",
              "\n",
              "        displayQuickchartButton(document);\n",
              "      </script>\n",
              "      <style>\n",
              "    .colab-df-container {\n",
              "      display:flex;\n",
              "      flex-wrap:wrap;\n",
              "      gap: 12px;\n",
              "    }\n",
              "\n",
              "    .colab-df-convert {\n",
              "      background-color: #E8F0FE;\n",
              "      border: none;\n",
              "      border-radius: 50%;\n",
              "      cursor: pointer;\n",
              "      display: none;\n",
              "      fill: #1967D2;\n",
              "      height: 32px;\n",
              "      padding: 0 0 0 0;\n",
              "      width: 32px;\n",
              "    }\n",
              "\n",
              "    .colab-df-convert:hover {\n",
              "      background-color: #E2EBFA;\n",
              "      box-shadow: 0px 1px 2px rgba(60, 64, 67, 0.3), 0px 1px 3px 1px rgba(60, 64, 67, 0.15);\n",
              "      fill: #174EA6;\n",
              "    }\n",
              "\n",
              "    [theme=dark] .colab-df-convert {\n",
              "      background-color: #3B4455;\n",
              "      fill: #D2E3FC;\n",
              "    }\n",
              "\n",
              "    [theme=dark] .colab-df-convert:hover {\n",
              "      background-color: #434B5C;\n",
              "      box-shadow: 0px 1px 3px 1px rgba(0, 0, 0, 0.15);\n",
              "      filter: drop-shadow(0px 1px 2px rgba(0, 0, 0, 0.3));\n",
              "      fill: #FFFFFF;\n",
              "    }\n",
              "  </style>\n",
              "\n",
              "      <script>\n",
              "        const buttonEl =\n",
              "          document.querySelector('#df-84e345e5-6830-4bfa-8449-39dcd607b8b1 button.colab-df-convert');\n",
              "        buttonEl.style.display =\n",
              "          google.colab.kernel.accessAllowed ? 'block' : 'none';\n",
              "\n",
              "        async function convertToInteractive(key) {\n",
              "          const element = document.querySelector('#df-84e345e5-6830-4bfa-8449-39dcd607b8b1');\n",
              "          const dataTable =\n",
              "            await google.colab.kernel.invokeFunction('convertToInteractive',\n",
              "                                                     [key], {});\n",
              "          if (!dataTable) return;\n",
              "\n",
              "          const docLinkHtml = 'Like what you see? Visit the ' +\n",
              "            '<a target=\"_blank\" href=https://colab.research.google.com/notebooks/data_table.ipynb>data table notebook</a>'\n",
              "            + ' to learn more about interactive tables.';\n",
              "          element.innerHTML = '';\n",
              "          dataTable['output_type'] = 'display_data';\n",
              "          await google.colab.output.renderOutput(dataTable, element);\n",
              "          const docLink = document.createElement('div');\n",
              "          docLink.innerHTML = docLinkHtml;\n",
              "          element.appendChild(docLink);\n",
              "        }\n",
              "      </script>\n",
              "    </div>\n",
              "  </div>\n"
            ]
          },
          "metadata": {},
          "execution_count": 11
        }
      ],
      "source": [
        "divvy_df.dropna()"
      ]
    },
    {
      "cell_type": "code",
      "execution_count": null,
      "metadata": {
        "colab": {
          "base_uri": "https://localhost:8080/"
        },
        "id": "o2os0e59I3FX",
        "outputId": "1c5e5e6d-9bf5-4778-c6f6-6db92446efd3"
      },
      "outputs": [
        {
          "output_type": "execute_result",
          "data": {
            "text/plain": [
              "(3055252, 13)"
            ]
          },
          "metadata": {},
          "execution_count": 12
        }
      ],
      "source": [
        "divvy_df.shape"
      ]
    },
    {
      "cell_type": "code",
      "execution_count": null,
      "metadata": {
        "colab": {
          "base_uri": "https://localhost:8080/"
        },
        "id": "XopekYdzJinn",
        "outputId": "ffa04b7f-87d0-4ee8-a990-6bbb38339608"
      },
      "outputs": [
        {
          "output_type": "execute_result",
          "data": {
            "text/plain": [
              "ride_id                    0\n",
              "rideable_type              1\n",
              "started_at                 1\n",
              "ended_at                   1\n",
              "start_station_name    443011\n",
              "start_station_id      443011\n",
              "end_station_name      474134\n",
              "end_station_id        474134\n",
              "start_lat                  1\n",
              "start_lng                  1\n",
              "end_lat                 3579\n",
              "end_lng                 3579\n",
              "member_casual              1\n",
              "dtype: int64"
            ]
          },
          "metadata": {},
          "execution_count": 13
        }
      ],
      "source": [
        "divvy_df.isnull().sum()"
      ]
    },
    {
      "cell_type": "code",
      "execution_count": null,
      "metadata": {
        "id": "WZVP2OzSNiiw"
      },
      "outputs": [],
      "source": [
        "#Drop the id columns\n",
        "divvy_df.columns\n",
        "# Drop multiple columns\n",
        "columns_to_drop = ['ride_id', 'start_station_id', 'end_station_id']\n",
        "divvy_df.drop(columns=columns_to_drop, inplace=True)\n",
        "\n",
        "\n"
      ]
    },
    {
      "cell_type": "code",
      "execution_count": null,
      "metadata": {
        "colab": {
          "base_uri": "https://localhost:8080/",
          "height": 424
        },
        "id": "qX6iAf_ANt1a",
        "outputId": "61537bbc-8ae1-4a1c-ae7e-6829c5e54243"
      },
      "outputs": [
        {
          "output_type": "execute_result",
          "data": {
            "text/plain": [
              "         rideable_type           started_at             ended_at  \\\n",
              "0         classic_bike     23/05/2022 23:06     23/05/2022 23:40   \n",
              "1         classic_bike     11/05/2022 08:53     11/05/2022 09:31   \n",
              "2         classic_bike     26/05/2022 18:36     26/05/2022 18:58   \n",
              "3         classic_bike     10/05/2022 07:30     10/05/2022 07:38   \n",
              "4         classic_bike     10/05/2022 17:31     10/05/2022 17:36   \n",
              "...                ...                  ...                  ...   \n",
              "3055247   classic_bike  2022-09-15 17:31:15  2022-09-15 17:45:02   \n",
              "3055248  electric_bike  2022-09-21 08:23:51  2022-09-21 08:29:29   \n",
              "3055249    docked_bike  2022-09-21 14:46:04  2022-09-21 15:18:02   \n",
              "3055250   classic_bike  2022-09-06 15:17:00  2022-09-06 15:25:12   \n",
              "3055251            NaN                  NaN                  NaN   \n",
              "\n",
              "                        start_station_name              end_station_name  \\\n",
              "0                   Wabash Ave & Grand Ave        Halsted St & Roscoe St   \n",
              "1        DuSable Lake Shore Dr & Monroe St   Field Blvd & South Water St   \n",
              "2                  Clinton St & Madison St       Wood St & Milwaukee Ave   \n",
              "3                  Clinton St & Madison St        Clark St & Randolph St   \n",
              "4                  Clinton St & Madison St           Morgan St & Lake St   \n",
              "...                                    ...                           ...   \n",
              "3055247             State St & Randolph St          McClurg Ct & Ohio St   \n",
              "3055248        Michigan Ave & Jackson Blvd  Stetson Ave & South Water St   \n",
              "3055249        Michigan Ave & Jackson Blvd             Adler Planetarium   \n",
              "3055250             State St & Randolph St          McClurg Ct & Ohio St   \n",
              "3055251                                NaN                           NaN   \n",
              "\n",
              "         start_lat  start_lng    end_lat    end_lng member_casual  \n",
              "0        41.891466 -87.626761  41.943670 -87.648950        member  \n",
              "1        41.880958 -87.616743  41.886349 -87.617517        member  \n",
              "2        41.882242 -87.641066  41.907655 -87.672552        member  \n",
              "3        41.882242 -87.641066  41.884576 -87.631890        member  \n",
              "4        41.882242 -87.641066  41.885779 -87.651025        member  \n",
              "...            ...        ...        ...        ...           ...  \n",
              "3055247  41.884621 -87.627834  41.892592 -87.617289        member  \n",
              "3055248  41.877843 -87.624083  41.886835 -87.622320        member  \n",
              "3055249  41.877850 -87.624080  41.866095 -87.607267        casual  \n",
              "3055250  41.884621 -87.627834  41.892592 -87.617289        member  \n",
              "3055251        NaN        NaN        NaN        NaN           NaN  \n",
              "\n",
              "[3055252 rows x 10 columns]"
            ],
            "text/html": [
              "\n",
              "\n",
              "  <div id=\"df-fcfc5baa-eae9-4bdb-92e2-9683ad919a3d\">\n",
              "    <div class=\"colab-df-container\">\n",
              "      <div>\n",
              "<style scoped>\n",
              "    .dataframe tbody tr th:only-of-type {\n",
              "        vertical-align: middle;\n",
              "    }\n",
              "\n",
              "    .dataframe tbody tr th {\n",
              "        vertical-align: top;\n",
              "    }\n",
              "\n",
              "    .dataframe thead th {\n",
              "        text-align: right;\n",
              "    }\n",
              "</style>\n",
              "<table border=\"1\" class=\"dataframe\">\n",
              "  <thead>\n",
              "    <tr style=\"text-align: right;\">\n",
              "      <th></th>\n",
              "      <th>rideable_type</th>\n",
              "      <th>started_at</th>\n",
              "      <th>ended_at</th>\n",
              "      <th>start_station_name</th>\n",
              "      <th>end_station_name</th>\n",
              "      <th>start_lat</th>\n",
              "      <th>start_lng</th>\n",
              "      <th>end_lat</th>\n",
              "      <th>end_lng</th>\n",
              "      <th>member_casual</th>\n",
              "    </tr>\n",
              "  </thead>\n",
              "  <tbody>\n",
              "    <tr>\n",
              "      <th>0</th>\n",
              "      <td>classic_bike</td>\n",
              "      <td>23/05/2022 23:06</td>\n",
              "      <td>23/05/2022 23:40</td>\n",
              "      <td>Wabash Ave &amp; Grand Ave</td>\n",
              "      <td>Halsted St &amp; Roscoe St</td>\n",
              "      <td>41.891466</td>\n",
              "      <td>-87.626761</td>\n",
              "      <td>41.943670</td>\n",
              "      <td>-87.648950</td>\n",
              "      <td>member</td>\n",
              "    </tr>\n",
              "    <tr>\n",
              "      <th>1</th>\n",
              "      <td>classic_bike</td>\n",
              "      <td>11/05/2022 08:53</td>\n",
              "      <td>11/05/2022 09:31</td>\n",
              "      <td>DuSable Lake Shore Dr &amp; Monroe St</td>\n",
              "      <td>Field Blvd &amp; South Water St</td>\n",
              "      <td>41.880958</td>\n",
              "      <td>-87.616743</td>\n",
              "      <td>41.886349</td>\n",
              "      <td>-87.617517</td>\n",
              "      <td>member</td>\n",
              "    </tr>\n",
              "    <tr>\n",
              "      <th>2</th>\n",
              "      <td>classic_bike</td>\n",
              "      <td>26/05/2022 18:36</td>\n",
              "      <td>26/05/2022 18:58</td>\n",
              "      <td>Clinton St &amp; Madison St</td>\n",
              "      <td>Wood St &amp; Milwaukee Ave</td>\n",
              "      <td>41.882242</td>\n",
              "      <td>-87.641066</td>\n",
              "      <td>41.907655</td>\n",
              "      <td>-87.672552</td>\n",
              "      <td>member</td>\n",
              "    </tr>\n",
              "    <tr>\n",
              "      <th>3</th>\n",
              "      <td>classic_bike</td>\n",
              "      <td>10/05/2022 07:30</td>\n",
              "      <td>10/05/2022 07:38</td>\n",
              "      <td>Clinton St &amp; Madison St</td>\n",
              "      <td>Clark St &amp; Randolph St</td>\n",
              "      <td>41.882242</td>\n",
              "      <td>-87.641066</td>\n",
              "      <td>41.884576</td>\n",
              "      <td>-87.631890</td>\n",
              "      <td>member</td>\n",
              "    </tr>\n",
              "    <tr>\n",
              "      <th>4</th>\n",
              "      <td>classic_bike</td>\n",
              "      <td>10/05/2022 17:31</td>\n",
              "      <td>10/05/2022 17:36</td>\n",
              "      <td>Clinton St &amp; Madison St</td>\n",
              "      <td>Morgan St &amp; Lake St</td>\n",
              "      <td>41.882242</td>\n",
              "      <td>-87.641066</td>\n",
              "      <td>41.885779</td>\n",
              "      <td>-87.651025</td>\n",
              "      <td>member</td>\n",
              "    </tr>\n",
              "    <tr>\n",
              "      <th>...</th>\n",
              "      <td>...</td>\n",
              "      <td>...</td>\n",
              "      <td>...</td>\n",
              "      <td>...</td>\n",
              "      <td>...</td>\n",
              "      <td>...</td>\n",
              "      <td>...</td>\n",
              "      <td>...</td>\n",
              "      <td>...</td>\n",
              "      <td>...</td>\n",
              "    </tr>\n",
              "    <tr>\n",
              "      <th>3055247</th>\n",
              "      <td>classic_bike</td>\n",
              "      <td>2022-09-15 17:31:15</td>\n",
              "      <td>2022-09-15 17:45:02</td>\n",
              "      <td>State St &amp; Randolph St</td>\n",
              "      <td>McClurg Ct &amp; Ohio St</td>\n",
              "      <td>41.884621</td>\n",
              "      <td>-87.627834</td>\n",
              "      <td>41.892592</td>\n",
              "      <td>-87.617289</td>\n",
              "      <td>member</td>\n",
              "    </tr>\n",
              "    <tr>\n",
              "      <th>3055248</th>\n",
              "      <td>electric_bike</td>\n",
              "      <td>2022-09-21 08:23:51</td>\n",
              "      <td>2022-09-21 08:29:29</td>\n",
              "      <td>Michigan Ave &amp; Jackson Blvd</td>\n",
              "      <td>Stetson Ave &amp; South Water St</td>\n",
              "      <td>41.877843</td>\n",
              "      <td>-87.624083</td>\n",
              "      <td>41.886835</td>\n",
              "      <td>-87.622320</td>\n",
              "      <td>member</td>\n",
              "    </tr>\n",
              "    <tr>\n",
              "      <th>3055249</th>\n",
              "      <td>docked_bike</td>\n",
              "      <td>2022-09-21 14:46:04</td>\n",
              "      <td>2022-09-21 15:18:02</td>\n",
              "      <td>Michigan Ave &amp; Jackson Blvd</td>\n",
              "      <td>Adler Planetarium</td>\n",
              "      <td>41.877850</td>\n",
              "      <td>-87.624080</td>\n",
              "      <td>41.866095</td>\n",
              "      <td>-87.607267</td>\n",
              "      <td>casual</td>\n",
              "    </tr>\n",
              "    <tr>\n",
              "      <th>3055250</th>\n",
              "      <td>classic_bike</td>\n",
              "      <td>2022-09-06 15:17:00</td>\n",
              "      <td>2022-09-06 15:25:12</td>\n",
              "      <td>State St &amp; Randolph St</td>\n",
              "      <td>McClurg Ct &amp; Ohio St</td>\n",
              "      <td>41.884621</td>\n",
              "      <td>-87.627834</td>\n",
              "      <td>41.892592</td>\n",
              "      <td>-87.617289</td>\n",
              "      <td>member</td>\n",
              "    </tr>\n",
              "    <tr>\n",
              "      <th>3055251</th>\n",
              "      <td>NaN</td>\n",
              "      <td>NaN</td>\n",
              "      <td>NaN</td>\n",
              "      <td>NaN</td>\n",
              "      <td>NaN</td>\n",
              "      <td>NaN</td>\n",
              "      <td>NaN</td>\n",
              "      <td>NaN</td>\n",
              "      <td>NaN</td>\n",
              "      <td>NaN</td>\n",
              "    </tr>\n",
              "  </tbody>\n",
              "</table>\n",
              "<p>3055252 rows × 10 columns</p>\n",
              "</div>\n",
              "      <button class=\"colab-df-convert\" onclick=\"convertToInteractive('df-fcfc5baa-eae9-4bdb-92e2-9683ad919a3d')\"\n",
              "              title=\"Convert this dataframe to an interactive table.\"\n",
              "              style=\"display:none;\">\n",
              "\n",
              "  <svg xmlns=\"http://www.w3.org/2000/svg\" height=\"24px\"viewBox=\"0 0 24 24\"\n",
              "       width=\"24px\">\n",
              "    <path d=\"M0 0h24v24H0V0z\" fill=\"none\"/>\n",
              "    <path d=\"M18.56 5.44l.94 2.06.94-2.06 2.06-.94-2.06-.94-.94-2.06-.94 2.06-2.06.94zm-11 1L8.5 8.5l.94-2.06 2.06-.94-2.06-.94L8.5 2.5l-.94 2.06-2.06.94zm10 10l.94 2.06.94-2.06 2.06-.94-2.06-.94-.94-2.06-.94 2.06-2.06.94z\"/><path d=\"M17.41 7.96l-1.37-1.37c-.4-.4-.92-.59-1.43-.59-.52 0-1.04.2-1.43.59L10.3 9.45l-7.72 7.72c-.78.78-.78 2.05 0 2.83L4 21.41c.39.39.9.59 1.41.59.51 0 1.02-.2 1.41-.59l7.78-7.78 2.81-2.81c.8-.78.8-2.07 0-2.86zM5.41 20L4 18.59l7.72-7.72 1.47 1.35L5.41 20z\"/>\n",
              "  </svg>\n",
              "      </button>\n",
              "\n",
              "\n",
              "\n",
              "    <div id=\"df-bb632269-2885-4b82-a047-ed1741215910\">\n",
              "      <button class=\"colab-df-quickchart\" onclick=\"quickchart('df-bb632269-2885-4b82-a047-ed1741215910')\"\n",
              "              title=\"Suggest charts.\"\n",
              "              style=\"display:none;\">\n",
              "\n",
              "<svg xmlns=\"http://www.w3.org/2000/svg\" height=\"24px\"viewBox=\"0 0 24 24\"\n",
              "     width=\"24px\">\n",
              "    <g>\n",
              "        <path d=\"M19 3H5c-1.1 0-2 .9-2 2v14c0 1.1.9 2 2 2h14c1.1 0 2-.9 2-2V5c0-1.1-.9-2-2-2zM9 17H7v-7h2v7zm4 0h-2V7h2v10zm4 0h-2v-4h2v4z\"/>\n",
              "    </g>\n",
              "</svg>\n",
              "      </button>\n",
              "    </div>\n",
              "\n",
              "<style>\n",
              "  .colab-df-quickchart {\n",
              "    background-color: #E8F0FE;\n",
              "    border: none;\n",
              "    border-radius: 50%;\n",
              "    cursor: pointer;\n",
              "    display: none;\n",
              "    fill: #1967D2;\n",
              "    height: 32px;\n",
              "    padding: 0 0 0 0;\n",
              "    width: 32px;\n",
              "  }\n",
              "\n",
              "  .colab-df-quickchart:hover {\n",
              "    background-color: #E2EBFA;\n",
              "    box-shadow: 0px 1px 2px rgba(60, 64, 67, 0.3), 0px 1px 3px 1px rgba(60, 64, 67, 0.15);\n",
              "    fill: #174EA6;\n",
              "  }\n",
              "\n",
              "  [theme=dark] .colab-df-quickchart {\n",
              "    background-color: #3B4455;\n",
              "    fill: #D2E3FC;\n",
              "  }\n",
              "\n",
              "  [theme=dark] .colab-df-quickchart:hover {\n",
              "    background-color: #434B5C;\n",
              "    box-shadow: 0px 1px 3px 1px rgba(0, 0, 0, 0.15);\n",
              "    filter: drop-shadow(0px 1px 2px rgba(0, 0, 0, 0.3));\n",
              "    fill: #FFFFFF;\n",
              "  }\n",
              "</style>\n",
              "\n",
              "    <script>\n",
              "      async function quickchart(key) {\n",
              "        const containerElement = document.querySelector('#' + key);\n",
              "        const charts = await google.colab.kernel.invokeFunction(\n",
              "            'suggestCharts', [key], {});\n",
              "      }\n",
              "    </script>\n",
              "\n",
              "      <script>\n",
              "\n",
              "function displayQuickchartButton(domScope) {\n",
              "  let quickchartButtonEl =\n",
              "    domScope.querySelector('#df-bb632269-2885-4b82-a047-ed1741215910 button.colab-df-quickchart');\n",
              "  quickchartButtonEl.style.display =\n",
              "    google.colab.kernel.accessAllowed ? 'block' : 'none';\n",
              "}\n",
              "\n",
              "        displayQuickchartButton(document);\n",
              "      </script>\n",
              "      <style>\n",
              "    .colab-df-container {\n",
              "      display:flex;\n",
              "      flex-wrap:wrap;\n",
              "      gap: 12px;\n",
              "    }\n",
              "\n",
              "    .colab-df-convert {\n",
              "      background-color: #E8F0FE;\n",
              "      border: none;\n",
              "      border-radius: 50%;\n",
              "      cursor: pointer;\n",
              "      display: none;\n",
              "      fill: #1967D2;\n",
              "      height: 32px;\n",
              "      padding: 0 0 0 0;\n",
              "      width: 32px;\n",
              "    }\n",
              "\n",
              "    .colab-df-convert:hover {\n",
              "      background-color: #E2EBFA;\n",
              "      box-shadow: 0px 1px 2px rgba(60, 64, 67, 0.3), 0px 1px 3px 1px rgba(60, 64, 67, 0.15);\n",
              "      fill: #174EA6;\n",
              "    }\n",
              "\n",
              "    [theme=dark] .colab-df-convert {\n",
              "      background-color: #3B4455;\n",
              "      fill: #D2E3FC;\n",
              "    }\n",
              "\n",
              "    [theme=dark] .colab-df-convert:hover {\n",
              "      background-color: #434B5C;\n",
              "      box-shadow: 0px 1px 3px 1px rgba(0, 0, 0, 0.15);\n",
              "      filter: drop-shadow(0px 1px 2px rgba(0, 0, 0, 0.3));\n",
              "      fill: #FFFFFF;\n",
              "    }\n",
              "  </style>\n",
              "\n",
              "      <script>\n",
              "        const buttonEl =\n",
              "          document.querySelector('#df-fcfc5baa-eae9-4bdb-92e2-9683ad919a3d button.colab-df-convert');\n",
              "        buttonEl.style.display =\n",
              "          google.colab.kernel.accessAllowed ? 'block' : 'none';\n",
              "\n",
              "        async function convertToInteractive(key) {\n",
              "          const element = document.querySelector('#df-fcfc5baa-eae9-4bdb-92e2-9683ad919a3d');\n",
              "          const dataTable =\n",
              "            await google.colab.kernel.invokeFunction('convertToInteractive',\n",
              "                                                     [key], {});\n",
              "          if (!dataTable) return;\n",
              "\n",
              "          const docLinkHtml = 'Like what you see? Visit the ' +\n",
              "            '<a target=\"_blank\" href=https://colab.research.google.com/notebooks/data_table.ipynb>data table notebook</a>'\n",
              "            + ' to learn more about interactive tables.';\n",
              "          element.innerHTML = '';\n",
              "          dataTable['output_type'] = 'display_data';\n",
              "          await google.colab.output.renderOutput(dataTable, element);\n",
              "          const docLink = document.createElement('div');\n",
              "          docLink.innerHTML = docLinkHtml;\n",
              "          element.appendChild(docLink);\n",
              "        }\n",
              "      </script>\n",
              "    </div>\n",
              "  </div>\n"
            ]
          },
          "metadata": {},
          "execution_count": 15
        }
      ],
      "source": [
        "divvy_df"
      ]
    },
    {
      "cell_type": "code",
      "execution_count": null,
      "metadata": {
        "colab": {
          "base_uri": "https://localhost:8080/"
        },
        "id": "qaDnnLj8PceJ",
        "outputId": "488b8f76-d38c-45b9-8db4-8d73f8c9259d"
      },
      "outputs": [
        {
          "output_type": "execute_result",
          "data": {
            "text/plain": [
              "rideable_type         0\n",
              "started_at            0\n",
              "ended_at              0\n",
              "start_station_name    0\n",
              "end_station_name      0\n",
              "start_lat             0\n",
              "start_lng             0\n",
              "end_lat               0\n",
              "end_lng               0\n",
              "member_casual         0\n",
              "dtype: int64"
            ]
          },
          "metadata": {},
          "execution_count": 16
        }
      ],
      "source": [
        "divvy_df.dropna(inplace = True)\n",
        "divvy_df.isnull().sum()"
      ]
    },
    {
      "cell_type": "code",
      "execution_count": null,
      "metadata": {
        "id": "CxzrWc2VPjzV"
      },
      "outputs": [],
      "source": [
        "divvy_df.to_csv('cleaned_dataset.csv', index=False)\n"
      ]
    },
    {
      "cell_type": "markdown",
      "metadata": {
        "id": "t46vCX8_Q37_"
      },
      "source": [
        "ANALYSIS USING PYSPARK"
      ]
    },
    {
      "cell_type": "code",
      "execution_count": null,
      "metadata": {
        "id": "vZfyZ03FQ29r"
      },
      "outputs": [],
      "source": [
        "from pyspark.sql import SparkSession"
      ]
    },
    {
      "cell_type": "code",
      "execution_count": null,
      "metadata": {
        "id": "W_jL6u2BLRm3"
      },
      "outputs": [],
      "source": [
        "spark = SparkSession.builder.appName('Divvy').getOrCreate()"
      ]
    },
    {
      "cell_type": "code",
      "execution_count": null,
      "metadata": {
        "colab": {
          "base_uri": "https://localhost:8080/",
          "height": 219
        },
        "id": "WX8g0DPnM14e",
        "outputId": "ebd6bdf2-0577-4723-fd08-9caef3d4e48e"
      },
      "outputs": [
        {
          "output_type": "execute_result",
          "data": {
            "text/plain": [
              "<pyspark.sql.session.SparkSession at 0x7d3f19b87790>"
            ],
            "text/html": [
              "\n",
              "            <div>\n",
              "                <p><b>SparkSession - in-memory</b></p>\n",
              "                \n",
              "        <div>\n",
              "            <p><b>SparkContext</b></p>\n",
              "\n",
              "            <p><a href=\"http://3b4b8d3f0f97:4040\">Spark UI</a></p>\n",
              "\n",
              "            <dl>\n",
              "              <dt>Version</dt>\n",
              "                <dd><code>v3.4.1</code></dd>\n",
              "              <dt>Master</dt>\n",
              "                <dd><code>local[*]</code></dd>\n",
              "              <dt>AppName</dt>\n",
              "                <dd><code>Divvy</code></dd>\n",
              "            </dl>\n",
              "        </div>\n",
              "        \n",
              "            </div>\n",
              "        "
            ]
          },
          "metadata": {},
          "execution_count": 20
        }
      ],
      "source": [
        "spark"
      ]
    },
    {
      "cell_type": "markdown",
      "metadata": {
        "id": "ot7WLdzkMyWJ"
      },
      "source": [
        "DATA EXPLORATION"
      ]
    },
    {
      "cell_type": "code",
      "execution_count": null,
      "metadata": {
        "colab": {
          "base_uri": "https://localhost:8080/",
          "height": 219
        },
        "id": "JCumXCiHMuxK",
        "outputId": "7e255382-2d8a-49fc-ff76-acc6d00d359d"
      },
      "outputs": [
        {
          "output_type": "execute_result",
          "data": {
            "text/plain": [
              "<pyspark.sql.session.SparkSession at 0x7d3f19b87790>"
            ],
            "text/html": [
              "\n",
              "            <div>\n",
              "                <p><b>SparkSession - in-memory</b></p>\n",
              "                \n",
              "        <div>\n",
              "            <p><b>SparkContext</b></p>\n",
              "\n",
              "            <p><a href=\"http://3b4b8d3f0f97:4040\">Spark UI</a></p>\n",
              "\n",
              "            <dl>\n",
              "              <dt>Version</dt>\n",
              "                <dd><code>v3.4.1</code></dd>\n",
              "              <dt>Master</dt>\n",
              "                <dd><code>local[*]</code></dd>\n",
              "              <dt>AppName</dt>\n",
              "                <dd><code>Divvy</code></dd>\n",
              "            </dl>\n",
              "        </div>\n",
              "        \n",
              "            </div>\n",
              "        "
            ]
          },
          "metadata": {},
          "execution_count": 21
        }
      ],
      "source": [
        "spark"
      ]
    },
    {
      "cell_type": "code",
      "execution_count": null,
      "metadata": {
        "id": "_2caX9B7MwCG"
      },
      "outputs": [],
      "source": [
        "##Read the dataset\n",
        "divvy_df = spark.read.option('header', 'true').csv('cleaned_dataset.csv', inferSchema = True)"
      ]
    },
    {
      "cell_type": "code",
      "execution_count": null,
      "metadata": {
        "colab": {
          "base_uri": "https://localhost:8080/"
        },
        "id": "iV_sVz9UM_G4",
        "outputId": "b4f33d29-8da7-44b7-9df1-28f67e6d07c5"
      },
      "outputs": [
        {
          "output_type": "stream",
          "name": "stdout",
          "text": [
            "root\n",
            " |-- rideable_type: string (nullable = true)\n",
            " |-- started_at: string (nullable = true)\n",
            " |-- ended_at: string (nullable = true)\n",
            " |-- start_station_name: string (nullable = true)\n",
            " |-- end_station_name: string (nullable = true)\n",
            " |-- start_lat: double (nullable = true)\n",
            " |-- start_lng: double (nullable = true)\n",
            " |-- end_lat: double (nullable = true)\n",
            " |-- end_lng: double (nullable = true)\n",
            " |-- member_casual: string (nullable = true)\n",
            "\n"
          ]
        }
      ],
      "source": [
        "##Check the schema\n",
        "divvy_df.printSchema()"
      ]
    },
    {
      "cell_type": "code",
      "execution_count": null,
      "metadata": {
        "colab": {
          "base_uri": "https://localhost:8080/"
        },
        "id": "BAQYkxEYNB3h",
        "outputId": "edd2e4af-7ac9-4001-d101-ab933a7ca86c"
      },
      "outputs": [
        {
          "output_type": "stream",
          "name": "stdout",
          "text": [
            "+-------------+----------------+----------------+--------------------+--------------------+-----------+------------+-----------+------------+-------------+\n",
            "|rideable_type|      started_at|        ended_at|  start_station_name|    end_station_name|  start_lat|   start_lng|    end_lat|     end_lng|member_casual|\n",
            "+-------------+----------------+----------------+--------------------+--------------------+-----------+------------+-----------+------------+-------------+\n",
            "| classic_bike|23/05/2022 23:06|23/05/2022 23:40|Wabash Ave & Gran...|Halsted St & Rosc...|  41.891466|  -87.626761|   41.94367|   -87.64895|       member|\n",
            "| classic_bike|11/05/2022 08:53|11/05/2022 09:31|DuSable Lake Shor...|Field Blvd & Sout...|  41.880958|  -87.616743|41.88634906|-87.61751655|       member|\n",
            "| classic_bike|26/05/2022 18:36|26/05/2022 18:58|Clinton St & Madi...|Wood St & Milwauk...|  41.882242|  -87.641066|  41.907655|  -87.672552|       member|\n",
            "| classic_bike|10/05/2022 07:30|10/05/2022 07:38|Clinton St & Madi...|Clark St & Randol...|  41.882242|  -87.641066|41.88457623|-87.63188991|       member|\n",
            "| classic_bike|10/05/2022 17:31|10/05/2022 17:36|Clinton St & Madi...| Morgan St & Lake St|  41.882242|  -87.641066|41.88577925|-87.65102461|       member|\n",
            "| classic_bike|04/05/2022 14:48|04/05/2022 14:56|Carpenter St & Hu...|Sangamon St & Was...|  41.894556|  -87.653449|  41.883165|    -87.6511|       member|\n",
            "| classic_bike|27/05/2022 12:41|27/05/2022 12:50|Noble St & Milwau...|Wood St & Augusta...|   41.90068|    -87.6626|  41.899181|    -87.6722|       member|\n",
            "|  docked_bike|29/05/2022 19:19|29/05/2022 19:31|Halsted St & Wrig...|Southport Ave & C...|  41.929143|  -87.649077|  41.920771|  -87.663712|       casual|\n",
            "| classic_bike|16/05/2022 17:48|16/05/2022 18:05|Clinton St & Madi...|Clybourn Ave & Di...|  41.882242|  -87.641066|  41.904613|  -87.640552|       member|\n",
            "|electric_bike|11/05/2022 07:29|11/05/2022 07:30|Southport Ave & W...|N Southport Ave &...|  41.948067| -87.6640125|      41.94|      -87.66|       member|\n",
            "| classic_bike|12/05/2022 08:52|12/05/2022 09:01|Halsted St & Wrig...|Dayton St & North...|  41.929143|  -87.649077|41.91057803|-87.64942193|       member|\n",
            "| classic_bike|17/05/2022 18:02|17/05/2022 18:16|Hermitage Ave & P...|Wabash Ave & Roos...|  41.871514|  -87.669886|  41.867227|  -87.625961|       member|\n",
            "|electric_bike|16/05/2022 14:41|16/05/2022 15:00| MLK Jr Dr & 63rd St|Blackstone Ave & ...|41.78013283|  -87.615954|  41.802562|  -87.590368|       member|\n",
            "|electric_bike|18/05/2022 13:39|18/05/2022 14:12|Cicero Ave & Wrig...|Ashland Ave & Bla...|      41.93|      -87.75|  41.907066|  -87.667252|       member|\n",
            "| classic_bike|12/05/2022 17:32|12/05/2022 18:06|Clark St & Schrei...|Albany Ave & Mont...|41.99925182|-87.67137734|  41.961041|  -87.705866|       member|\n",
            "| classic_bike|10/05/2022 18:43|10/05/2022 18:58|Wabash Ave & Gran...|Wabash Ave & 16th St|  41.891466|  -87.626761|  41.860384|  -87.625813|       member|\n",
            "| classic_bike|22/05/2022 06:22|22/05/2022 06:28|Clinton St & Madi...|Michigan Ave & Wa...|  41.882242|  -87.641066|41.88398406|-87.62468398|       member|\n",
            "|electric_bike|31/05/2022 18:03|31/05/2022 18:20|Clark St & Drummo...|Sheffield Ave & W...|  41.931216|-87.64428667|  41.949399|  -87.654529|       member|\n",
            "| classic_bike|22/05/2022 14:18|22/05/2022 14:21|Franklin St & Chi...|Larrabee St & Kin...|41.89674697|-87.63566762|  41.897764|  -87.642884|       member|\n",
            "|electric_bike|11/05/2022 13:52|11/05/2022 14:00|Ashland Ave & Aug...|Desplaines St & K...|41.89964133|-87.66845467|41.88871604|-87.64444785|       member|\n",
            "+-------------+----------------+----------------+--------------------+--------------------+-----------+------------+-----------+------------+-------------+\n",
            "only showing top 20 rows\n",
            "\n"
          ]
        }
      ],
      "source": [
        "divvy_df = spark.read.csv('cleaned_dataset.csv', header = True, inferSchema = True)\n",
        "divvy_df.show()"
      ]
    },
    {
      "cell_type": "code",
      "execution_count": null,
      "metadata": {
        "colab": {
          "base_uri": "https://localhost:8080/"
        },
        "id": "uW9xCuZceeJ4",
        "outputId": "4ffcf0e0-03a6-4d3c-a77b-85479d8c5a32"
      },
      "outputs": [
        {
          "output_type": "stream",
          "name": "stdout",
          "text": [
            "+-------+-------------+----------------+----------------+--------------------+--------------------+--------------------+-------------------+-------------------+--------------------+-------------+\n",
            "|summary|rideable_type|      started_at|        ended_at|  start_station_name|    end_station_name|           start_lat|          start_lng|            end_lat|             end_lng|member_casual|\n",
            "+-------+-------------+----------------+----------------+--------------------+--------------------+--------------------+-------------------+-------------------+--------------------+-------------+\n",
            "|  count|      2372752|         2372752|         2372752|             2372752|             2372752|             2372752|            2372752|            2372752|             2372752|      2372752|\n",
            "|   mean|         null|            null|            null|                null|                null|   41.90376524342244| -87.64491458030183| 41.904109389131484|   -87.6451705413892|         null|\n",
            "| stddev|         null|            null|            null|                null|                null|0.041702974552453045|0.02510350955487818|0.04190285743885252|0.025349478814275003|         null|\n",
            "|    min| classic_bike|01/05/2022 00:00|01/05/2022 00:05|10101 S Stony Isl...|10101 S Stony Isl...|         41.64850076|        -87.8333205|        41.64850076|              -87.83|       casual|\n",
            "|    max|electric_bike|31/05/2022 23:59|31/05/2022 23:59|      Zapata Academy|      Zapata Academy|         42.06486917|         -87.525314|          42.064854|  -87.52823173999786|       member|\n",
            "+-------+-------------+----------------+----------------+--------------------+--------------------+--------------------+-------------------+-------------------+--------------------+-------------+\n",
            "\n"
          ]
        }
      ],
      "source": [
        "divvy_df.describe().show()"
      ]
    },
    {
      "cell_type": "code",
      "execution_count": null,
      "metadata": {
        "colab": {
          "base_uri": "https://localhost:8080/"
        },
        "id": "aiTeHpUbNHD5",
        "outputId": "f27652b1-bea5-47e6-e9d3-7adbe46486b2"
      },
      "outputs": [
        {
          "output_type": "execute_result",
          "data": {
            "text/plain": [
              "pyspark.sql.dataframe.DataFrame"
            ]
          },
          "metadata": {},
          "execution_count": 26
        }
      ],
      "source": [
        "type(divvy_df)"
      ]
    },
    {
      "cell_type": "code",
      "execution_count": null,
      "metadata": {
        "colab": {
          "base_uri": "https://localhost:8080/"
        },
        "id": "NvTox8EYNKcP",
        "outputId": "e9f7056e-c542-4556-b3f7-29c8d74315ae"
      },
      "outputs": [
        {
          "output_type": "execute_result",
          "data": {
            "text/plain": [
              "[Row(rideable_type='classic_bike', started_at='23/05/2022 23:06', ended_at='23/05/2022 23:40', start_station_name='Wabash Ave & Grand Ave', end_station_name='Halsted St & Roscoe St', start_lat=41.891466, start_lng=-87.626761, end_lat=41.94367, end_lng=-87.64895, member_casual='member'),\n",
              " Row(rideable_type='classic_bike', started_at='11/05/2022 08:53', ended_at='11/05/2022 09:31', start_station_name='DuSable Lake Shore Dr & Monroe St', end_station_name='Field Blvd & South Water St', start_lat=41.880958, start_lng=-87.616743, end_lat=41.88634906, end_lng=-87.61751655, member_casual='member'),\n",
              " Row(rideable_type='classic_bike', started_at='26/05/2022 18:36', ended_at='26/05/2022 18:58', start_station_name='Clinton St & Madison St', end_station_name='Wood St & Milwaukee Ave', start_lat=41.882242, start_lng=-87.641066, end_lat=41.907655, end_lng=-87.672552, member_casual='member')]"
            ]
          },
          "metadata": {},
          "execution_count": 27
        }
      ],
      "source": [
        "divvy_df.head(3)"
      ]
    },
    {
      "cell_type": "code",
      "execution_count": null,
      "metadata": {
        "colab": {
          "base_uri": "https://localhost:8080/"
        },
        "id": "T9qX0HS8NNNL",
        "outputId": "f2bea54f-2538-407d-d8aa-a2ff060f4e5d"
      },
      "outputs": [
        {
          "output_type": "stream",
          "name": "stdout",
          "text": [
            "+--------------------+\n",
            "|    end_station_name|\n",
            "+--------------------+\n",
            "|Halsted St & Rosc...|\n",
            "|Field Blvd & Sout...|\n",
            "|Wood St & Milwauk...|\n",
            "|Clark St & Randol...|\n",
            "| Morgan St & Lake St|\n",
            "|Sangamon St & Was...|\n",
            "|Wood St & Augusta...|\n",
            "|Southport Ave & C...|\n",
            "|Clybourn Ave & Di...|\n",
            "|N Southport Ave &...|\n",
            "|Dayton St & North...|\n",
            "|Wabash Ave & Roos...|\n",
            "|Blackstone Ave & ...|\n",
            "|Ashland Ave & Bla...|\n",
            "|Albany Ave & Mont...|\n",
            "|Wabash Ave & 16th St|\n",
            "|Michigan Ave & Wa...|\n",
            "|Sheffield Ave & W...|\n",
            "|Larrabee St & Kin...|\n",
            "|Desplaines St & K...|\n",
            "+--------------------+\n",
            "only showing top 20 rows\n",
            "\n"
          ]
        }
      ],
      "source": [
        "divvy_df.select('end_station_name').show()"
      ]
    },
    {
      "cell_type": "code",
      "execution_count": null,
      "metadata": {
        "id": "GAk4tKgbNSXZ"
      },
      "outputs": [],
      "source": [
        "record_count = divvy_df.count()"
      ]
    },
    {
      "cell_type": "code",
      "execution_count": null,
      "metadata": {
        "colab": {
          "base_uri": "https://localhost:8080/"
        },
        "id": "HK5XEdYYNXlF",
        "outputId": "cffc82b6-1b38-4e2c-bbe3-cf40a36df865"
      },
      "outputs": [
        {
          "output_type": "stream",
          "name": "stdout",
          "text": [
            "Number of records: 2372752\n"
          ]
        }
      ],
      "source": [
        "print(\"Number of records:\", record_count)"
      ]
    },
    {
      "cell_type": "code",
      "execution_count": null,
      "metadata": {
        "colab": {
          "base_uri": "https://localhost:8080/"
        },
        "id": "n-l8b4RPNads",
        "outputId": "31b6cbfd-b8f2-41ec-ac31-da5b562f6149"
      },
      "outputs": [
        {
          "output_type": "stream",
          "name": "stdout",
          "text": [
            "+-------------+----------------+----------------+--------------------+--------------------+---------+----------+-----------+------------+-------------+\n",
            "|rideable_type|      started_at|        ended_at|  start_station_name|    end_station_name|start_lat| start_lng|    end_lat|     end_lng|member_casual|\n",
            "+-------------+----------------+----------------+--------------------+--------------------+---------+----------+-----------+------------+-------------+\n",
            "| classic_bike|23/05/2022 23:06|23/05/2022 23:40|Wabash Ave & Gran...|Halsted St & Rosc...|41.891466|-87.626761|   41.94367|   -87.64895|       member|\n",
            "| classic_bike|11/05/2022 08:53|11/05/2022 09:31|DuSable Lake Shor...|Field Blvd & Sout...|41.880958|-87.616743|41.88634906|-87.61751655|       member|\n",
            "| classic_bike|26/05/2022 18:36|26/05/2022 18:58|Clinton St & Madi...|Wood St & Milwauk...|41.882242|-87.641066|  41.907655|  -87.672552|       member|\n",
            "| classic_bike|10/05/2022 07:30|10/05/2022 07:38|Clinton St & Madi...|Clark St & Randol...|41.882242|-87.641066|41.88457623|-87.63188991|       member|\n",
            "| classic_bike|10/05/2022 17:31|10/05/2022 17:36|Clinton St & Madi...| Morgan St & Lake St|41.882242|-87.641066|41.88577925|-87.65102461|       member|\n",
            "+-------------+----------------+----------------+--------------------+--------------------+---------+----------+-----------+------------+-------------+\n",
            "only showing top 5 rows\n",
            "\n"
          ]
        }
      ],
      "source": [
        "divvy_df.show(5)\n"
      ]
    },
    {
      "cell_type": "code",
      "execution_count": null,
      "metadata": {
        "colab": {
          "base_uri": "https://localhost:8080/"
        },
        "id": "sOaiMXpGNcuT",
        "outputId": "36cde2e9-e274-4e82-ff98-6d77e976c992"
      },
      "outputs": [
        {
          "output_type": "stream",
          "name": "stdout",
          "text": [
            "+-------------+----------+--------+------------------+----------------+---------+---------+-------+-------+-------------+\n",
            "|rideable_type|started_at|ended_at|start_station_name|end_station_name|start_lat|start_lng|end_lat|end_lng|member_casual|\n",
            "+-------------+----------+--------+------------------+----------------+---------+---------+-------+-------+-------------+\n",
            "|            0|         0|       0|                 0|               0|        0|        0|      0|      0|            0|\n",
            "+-------------+----------+--------+------------------+----------------+---------+---------+-------+-------+-------------+\n",
            "\n"
          ]
        }
      ],
      "source": [
        "from pyspark.sql.functions import count, when, isnull\n",
        "\n",
        "missing_values = divvy_df.select([count(when(isnull(col), col)).alias(col) for col in divvy_df.columns])\n",
        "missing_values.show()"
      ]
    },
    {
      "cell_type": "code",
      "execution_count": null,
      "metadata": {
        "colab": {
          "base_uri": "https://localhost:8080/"
        },
        "id": "zcElIUwlNfB0",
        "outputId": "96334aff-911f-4474-ce29-505a4d731674"
      },
      "outputs": [
        {
          "output_type": "stream",
          "name": "stdout",
          "text": [
            "+-------+-------------+----------------+----------------+--------------------+--------------------+--------------------+-------------------+-------------------+--------------------+-------------+\n",
            "|summary|rideable_type|      started_at|        ended_at|  start_station_name|    end_station_name|           start_lat|          start_lng|            end_lat|             end_lng|member_casual|\n",
            "+-------+-------------+----------------+----------------+--------------------+--------------------+--------------------+-------------------+-------------------+--------------------+-------------+\n",
            "|  count|      2372752|         2372752|         2372752|             2372752|             2372752|             2372752|            2372752|            2372752|             2372752|      2372752|\n",
            "|   mean|         null|            null|            null|                null|                null|   41.90376524342244| -87.64491458030183| 41.904109389131484|   -87.6451705413892|         null|\n",
            "| stddev|         null|            null|            null|                null|                null|0.041702974552453045|0.02510350955487818|0.04190285743885252|0.025349478814275003|         null|\n",
            "|    min| classic_bike|01/05/2022 00:00|01/05/2022 00:05|10101 S Stony Isl...|10101 S Stony Isl...|         41.64850076|        -87.8333205|        41.64850076|              -87.83|       casual|\n",
            "|    max|electric_bike|31/05/2022 23:59|31/05/2022 23:59|      Zapata Academy|      Zapata Academy|         42.06486917|         -87.525314|          42.064854|  -87.52823173999786|       member|\n",
            "+-------+-------------+----------------+----------------+--------------------+--------------------+--------------------+-------------------+-------------------+--------------------+-------------+\n",
            "\n"
          ]
        }
      ],
      "source": [
        "divvy_df.describe().show()"
      ]
    },
    {
      "cell_type": "code",
      "execution_count": null,
      "metadata": {
        "colab": {
          "base_uri": "https://localhost:8080/"
        },
        "id": "Mjq-onksNoS8",
        "outputId": "c2d7f075-2911-49de-c8ce-7da4daee9b34"
      },
      "outputs": [
        {
          "output_type": "stream",
          "name": "stdout",
          "text": [
            "+-------------+-------+\n",
            "|rideable_type|  count|\n",
            "+-------------+-------+\n",
            "|  docked_bike| 112901|\n",
            "|electric_bike| 812881|\n",
            "| classic_bike|1446970|\n",
            "+-------------+-------+\n",
            "\n",
            "+--------------------+-----+\n",
            "|  start_station_name|count|\n",
            "+--------------------+-----+\n",
            "| Clark St & Grace St| 7236|\n",
            "| Ellis Ave & 60th St| 6872|\n",
            "|    Nordica & Medill|   31|\n",
            "|Broadway & Wavela...|10591|\n",
            "|Southport Ave & I...| 3919|\n",
            "|Manor Ave & Lelan...|  986|\n",
            "|Kedzie Ave & Lake St|  428|\n",
            "| Throop St & 52nd St|   47|\n",
            "|Cottage Grove Ave...|  801|\n",
            "|Public Rack - Men...|   12|\n",
            "|Lorel Ave & Chica...|    2|\n",
            "|Wabash Ave & Adam...| 4655|\n",
            "|Halsted St & Maxw...| 4363|\n",
            "|McVicker Ave & Gr...|    4|\n",
            "|Lincoln Ave & Bal...|  312|\n",
            "|Kostner Ave & Nor...|    6|\n",
            "|Neva Ave & Grand Ave|   15|\n",
            "|Ashland Ave & 78t...|   52|\n",
            "|Pulaski Rd & 44th St|  116|\n",
            "|Newcastle Ave & B...|   39|\n",
            "+--------------------+-----+\n",
            "only showing top 20 rows\n",
            "\n",
            "+--------------------+-----+\n",
            "|    end_station_name|count|\n",
            "+--------------------+-----+\n",
            "| Ellis Ave & 60th St| 6962|\n",
            "| Clark St & Grace St| 7323|\n",
            "|Broadway & Wavela...|10553|\n",
            "|    Nordica & Medill|   29|\n",
            "|Southport Ave & I...| 3727|\n",
            "|Cottage Grove Ave...|  767|\n",
            "|Manor Ave & Lelan...| 1023|\n",
            "|Kedzie Ave & Lake St|  347|\n",
            "| Throop St & 52nd St|   44|\n",
            "|Lorel Ave & Chica...|    2|\n",
            "|Public Rack - Men...|   18|\n",
            "|Halsted St & Maxw...| 4421|\n",
            "|Wabash Ave & Adam...| 4752|\n",
            "|Pulaski Rd & 44th St|   99|\n",
            "|Michigan Ave & 11...|    2|\n",
            "|Lincoln Ave & Bal...|  323|\n",
            "|Kostner Ave & Nor...|    7|\n",
            "|Neva Ave & Grand Ave|   16|\n",
            "|Newcastle Ave & B...|   33|\n",
            "|Ashland Ave & 78t...|   53|\n",
            "+--------------------+-----+\n",
            "only showing top 20 rows\n",
            "\n",
            "+-------------+-------+\n",
            "|member_casual|  count|\n",
            "+-------------+-------+\n",
            "|       casual|1094987|\n",
            "|       member|1277765|\n",
            "+-------------+-------+\n",
            "\n"
          ]
        }
      ],
      "source": [
        "divvy_df.groupBy(\"rideable_type\").count().show()\n",
        "divvy_df.groupBy(\"start_station_name\").count().show()\n",
        "divvy_df.groupBy(\"end_station_name\").count().show()\n",
        "divvy_df.groupBy(\"member_casual\").count().show()\n"
      ]
    },
    {
      "cell_type": "code",
      "execution_count": null,
      "metadata": {
        "id": "-a-B26cSNxsU",
        "colab": {
          "base_uri": "https://localhost:8080/"
        },
        "outputId": "b2d38762-e2dd-458c-c2c4-85501c95c8cf"
      },
      "outputs": [
        {
          "output_type": "stream",
          "name": "stdout",
          "text": [
            "Number of distinct start stations: 1358\n",
            "Number of distinct end stations: 1385\n"
          ]
        }
      ],
      "source": [
        "# Count the number of distinct start stations\n",
        "start_stations_count = divvy_df.select(\"start_station_name\").distinct().count()\n",
        "print(\"Number of distinct start stations:\", start_stations_count)\n",
        "\n",
        "# Count the number of distinct end stations\n",
        "end_stations_count = divvy_df.select(\"end_station_name\").distinct().count()\n",
        "print(\"Number of distinct end stations:\", end_stations_count)"
      ]
    },
    {
      "cell_type": "code",
      "execution_count": null,
      "metadata": {
        "id": "HNoOM9eyN5fA",
        "colab": {
          "base_uri": "https://localhost:8080/"
        },
        "outputId": "303d37bb-6693-4ca4-df35-607864446b77"
      },
      "outputs": [
        {
          "output_type": "stream",
          "name": "stdout",
          "text": [
            "+-------------+-------+\n",
            "|rideable_type|  count|\n",
            "+-------------+-------+\n",
            "|  docked_bike| 112901|\n",
            "|electric_bike| 812881|\n",
            "| classic_bike|1446970|\n",
            "+-------------+-------+\n",
            "\n",
            "+-------+--------------------+\n",
            "|summary|           start_lat|\n",
            "+-------+--------------------+\n",
            "|  count|             2372752|\n",
            "|   mean|   41.90376524342244|\n",
            "| stddev|0.041702974552453045|\n",
            "|    min|         41.64850076|\n",
            "|    25%|           41.882091|\n",
            "|    50%|         41.89993001|\n",
            "|    75%|           41.929465|\n",
            "|    max|         42.06486917|\n",
            "+-------+--------------------+\n",
            "\n"
          ]
        }
      ],
      "source": [
        "# Explore categorical variables\n",
        "divvy_df.groupBy(\"rideable_type\").count().show()\n",
        "\n",
        "# Explore numerical variables\n",
        "divvy_df.select(\"start_lat\").summary().show()"
      ]
    },
    {
      "cell_type": "markdown",
      "metadata": {
        "id": "cmJYze5mN941"
      },
      "source": [
        "STATION ANALYSIS"
      ]
    },
    {
      "cell_type": "code",
      "execution_count": null,
      "metadata": {
        "colab": {
          "base_uri": "https://localhost:8080/"
        },
        "id": "V5AHTtfsN8zb",
        "outputId": "9ae78711-da52-4422-d4db-50f43720304d"
      },
      "outputs": [
        {
          "output_type": "stream",
          "name": "stdout",
          "text": [
            "Number of distinct start stations: 1358\n"
          ]
        }
      ],
      "source": [
        "#number of distinct start stations\n",
        "from pyspark.sql.functions import countDistinct\n",
        "\n",
        "distinct_start_stations = divvy_df.select(countDistinct(\"start_station_name\")).first()[0]\n",
        "print(\"Number of distinct start stations:\", distinct_start_stations)"
      ]
    },
    {
      "cell_type": "code",
      "execution_count": null,
      "metadata": {
        "colab": {
          "base_uri": "https://localhost:8080/"
        },
        "id": "ok1ZQY-zOFyl",
        "outputId": "0b5edffb-b544-4fb8-e2bc-9a263f2e0e05"
      },
      "outputs": [
        {
          "output_type": "stream",
          "name": "stdout",
          "text": [
            "Number of distinct end stations: 1385\n"
          ]
        }
      ],
      "source": [
        "#number of distinct end stations\n",
        "distinct_end_stations = divvy_df.select(countDistinct(\"end_station_name\")).first()[0]\n",
        "print(\"Number of distinct end stations:\", distinct_end_stations)"
      ]
    },
    {
      "cell_type": "code",
      "execution_count": null,
      "metadata": {
        "colab": {
          "base_uri": "https://localhost:8080/"
        },
        "id": "VAjkYUdpOK-1",
        "outputId": "819ea652-d564-4d27-8f28-765b0b4ce4c4"
      },
      "outputs": [
        {
          "output_type": "stream",
          "name": "stdout",
          "text": [
            "+--------------------+-----+\n",
            "|  start_station_name|count|\n",
            "+--------------------+-----+\n",
            "|Streeter Dr & Gra...|46868|\n",
            "|DuSable Lake Shor...|27376|\n",
            "|Michigan Ave & Oa...|25179|\n",
            "|DuSable Lake Shor...|24916|\n",
            "| Theater on the Lake|21889|\n",
            "|     Millennium Park|19878|\n",
            "|Wells St & Concor...|19787|\n",
            "|   Clark St & Elm St|17052|\n",
            "|Clark St & Armita...|16057|\n",
            "|   Wells St & Elm St|16045|\n",
            "|Clark St & Lincol...|15833|\n",
            "|Kingsbury St & Ki...|15415|\n",
            "|Broadway & Barry Ave|14952|\n",
            "|Indiana Ave & Roo...|14406|\n",
            "|      Shedd Aquarium|14301|\n",
            "|Wabash Ave & Gran...|13957|\n",
            "|DuSable Lake Shor...|13846|\n",
            "|     Montrose Harbor|13723|\n",
            "|Wilton Ave & Belm...|13640|\n",
            "|Clark St & Wright...|13409|\n",
            "+--------------------+-----+\n",
            "only showing top 20 rows\n",
            "\n"
          ]
        }
      ],
      "source": [
        "from pyspark.sql.functions import count, desc\n",
        "\n",
        "start_station_counts = divvy_df.groupBy(\"start_station_name\").agg(count(\"*\").alias(\"count\"))\n",
        "start_station_counts = start_station_counts.orderBy(desc(\"count\"))\n",
        "\n",
        "start_station_counts.show(20)\n",
        "\n"
      ]
    },
    {
      "cell_type": "code",
      "execution_count": null,
      "metadata": {
        "id": "iNW1S3_QONjt",
        "colab": {
          "base_uri": "https://localhost:8080/",
          "height": 1000
        },
        "outputId": "abe429ec-80bf-4f78-a87f-61aaf7c3426d"
      },
      "outputs": [
        {
          "output_type": "stream",
          "name": "stdout",
          "text": [
            "+--------------------+-----+\n",
            "|  start_station_name|count|\n",
            "+--------------------+-----+\n",
            "|Streeter Dr & Gra...|46868|\n",
            "|DuSable Lake Shor...|27376|\n",
            "|Michigan Ave & Oa...|25179|\n",
            "|DuSable Lake Shor...|24916|\n",
            "| Theater on the Lake|21889|\n",
            "|     Millennium Park|19878|\n",
            "|Wells St & Concor...|19787|\n",
            "|   Clark St & Elm St|17052|\n",
            "|Clark St & Armita...|16057|\n",
            "|   Wells St & Elm St|16045|\n",
            "|Clark St & Lincol...|15833|\n",
            "|Kingsbury St & Ki...|15415|\n",
            "|Broadway & Barry Ave|14952|\n",
            "|Indiana Ave & Roo...|14406|\n",
            "|      Shedd Aquarium|14301|\n",
            "|Wabash Ave & Gran...|13957|\n",
            "|DuSable Lake Shor...|13846|\n",
            "|     Montrose Harbor|13723|\n",
            "|Wilton Ave & Belm...|13640|\n",
            "|Clark St & Wright...|13409|\n",
            "+--------------------+-----+\n",
            "\n"
          ]
        },
        {
          "output_type": "display_data",
          "data": {
            "text/plain": [
              "<Figure size 1200x600 with 1 Axes>"
            ],
            "image/png": "[encoded data removed]"
          },
          "metadata": {}
        }
      ],
      "source": [
        "import matplotlib.pyplot as plt\n",
        "\n",
        "top_20_start_stations = divvy_df.groupBy(\"start_station_name\").count().orderBy(desc(\"count\")).limit(20)\n",
        "top_20_start_stations.show()\n",
        "\n",
        "# Convert DataFrame to Pandas for plotting\n",
        "top_20_start_stations_pandas = top_20_start_stations.toPandas()\n",
        "\n",
        "# Plotting the top 20 popular start stations\n",
        "plt.figure(figsize=(12, 6))\n",
        "plt.bar(top_20_start_stations_pandas[\"start_station_name\"], top_20_start_stations_pandas[\"count\"])\n",
        "plt.xticks(rotation=90)\n",
        "plt.xlabel(\"Start Station\")\n",
        "plt.ylabel(\"Count\")\n",
        "plt.title(\"Top 20 Popular Start Stations\")\n",
        "plt.show()"
      ]
    },
    {
      "cell_type": "code",
      "execution_count": null,
      "metadata": {
        "colab": {
          "base_uri": "https://localhost:8080/"
        },
        "id": "ZmuIfe8QbyjO",
        "outputId": "a02b059a-0af4-43ca-f6a5-c9e7d428a76f"
      },
      "outputs": [
        {
          "output_type": "stream",
          "name": "stdout",
          "text": [
            "+------------------+\n",
            "|     average_count|\n",
            "+------------------+\n",
            "|1713.1783393501805|\n",
            "+------------------+\n",
            "\n"
          ]
        }
      ],
      "source": [
        "from pyspark.sql.functions import count, avg\n",
        "\n",
        "end_station_avg_count = divvy_df.groupBy(\"end_station_name\").count().agg(avg(\"count\").alias(\"average_count\"))\n",
        "end_station_avg_count.show()\n"
      ]
    },
    {
      "cell_type": "code",
      "execution_count": null,
      "metadata": {
        "id": "NGTwnsmZb1_6",
        "colab": {
          "base_uri": "https://localhost:8080/"
        },
        "outputId": "574ef053-2268-475b-956e-ff2674a35c55"
      },
      "outputs": [
        {
          "output_type": "stream",
          "name": "stdout",
          "text": [
            "+--------------------+-----+\n",
            "|    end_station_name|count|\n",
            "+--------------------+-----+\n",
            "|Streeter Dr & Gra...|47671|\n",
            "|DuSable Lake Shor...|29885|\n",
            "|Michigan Ave & Oa...|25544|\n",
            "|DuSable Lake Shor...|24705|\n",
            "| Theater on the Lake|22360|\n",
            "|     Millennium Park|20220|\n",
            "|Wells St & Concor...|19704|\n",
            "|   Clark St & Elm St|16970|\n",
            "|Clark St & Armita...|16205|\n",
            "|Clark St & Lincol...|15970|\n",
            "|   Wells St & Elm St|15433|\n",
            "|Broadway & Barry Ave|15235|\n",
            "|Kingsbury St & Ki...|14882|\n",
            "|      Shedd Aquarium|14191|\n",
            "|DuSable Lake Shor...|13965|\n",
            "|Indiana Ave & Roo...|13922|\n",
            "|     Montrose Harbor|13727|\n",
            "|Wilton Ave & Belm...|13623|\n",
            "|Wabash Ave & Gran...|13558|\n",
            "|Clark St & Wright...|13293|\n",
            "+--------------------+-----+\n",
            "\n"
          ]
        }
      ],
      "source": [
        "from pyspark.sql.functions import desc\n",
        "\n",
        "popular_end_stations = divvy_df.groupBy(\"end_station_name\").count().orderBy(desc(\"count\"))\n",
        "top_20_end_stations = popular_end_stations.limit(20)\n",
        "top_20_end_stations.show()"
      ]
    },
    {
      "cell_type": "code",
      "execution_count": null,
      "metadata": {
        "id": "sBWdMwfOb70p",
        "colab": {
          "base_uri": "https://localhost:8080/",
          "height": 1000
        },
        "outputId": "45fc1e8d-e723-407e-830a-b26879639ba9"
      },
      "outputs": [
        {
          "output_type": "stream",
          "name": "stdout",
          "text": [
            "+--------------------+-----+\n",
            "|    end_station_name|count|\n",
            "+--------------------+-----+\n",
            "|Streeter Dr & Gra...|47671|\n",
            "|DuSable Lake Shor...|29885|\n",
            "|Michigan Ave & Oa...|25544|\n",
            "|DuSable Lake Shor...|24705|\n",
            "| Theater on the Lake|22360|\n",
            "|     Millennium Park|20220|\n",
            "|Wells St & Concor...|19704|\n",
            "|   Clark St & Elm St|16970|\n",
            "|Clark St & Armita...|16205|\n",
            "|Clark St & Lincol...|15970|\n",
            "|   Wells St & Elm St|15433|\n",
            "|Broadway & Barry Ave|15235|\n",
            "|Kingsbury St & Ki...|14882|\n",
            "|      Shedd Aquarium|14191|\n",
            "|DuSable Lake Shor...|13965|\n",
            "|Indiana Ave & Roo...|13922|\n",
            "|     Montrose Harbor|13727|\n",
            "|Wilton Ave & Belm...|13623|\n",
            "|Wabash Ave & Gran...|13558|\n",
            "|Clark St & Wright...|13293|\n",
            "+--------------------+-----+\n",
            "\n"
          ]
        },
        {
          "output_type": "display_data",
          "data": {
            "text/plain": [
              "<Figure size 1200x600 with 1 Axes>"
            ],
            "image/png": "[encoded data removed]"
          },
          "metadata": {}
        }
      ],
      "source": [
        "\n",
        "#Top 20 Popular Destination Stations\n",
        "\n",
        "top_20_end_stations = divvy_df.groupBy(\"end_station_name\").count().orderBy(desc(\"count\")).limit(20)\n",
        "top_20_end_stations.show()\n",
        "\n",
        "# Convert DataFrame to Pandas for plotting\n",
        "top_20_end_stations_pandas = top_20_end_stations.toPandas()\n",
        "\n",
        "# Plotting the top 20 popular end stations\n",
        "plt.figure(figsize=(12, 6))\n",
        "plt.bar(top_20_end_stations_pandas[\"end_station_name\"], top_20_end_stations_pandas[\"count\"])\n",
        "plt.xticks(rotation=90)\n",
        "plt.xlabel(\"End Station\")\n",
        "plt.ylabel(\"Count\")\n",
        "plt.title(\"Top 20 Popular Destination Stations\")\n",
        "plt.show()\n"
      ]
    },
    {
      "cell_type": "code",
      "execution_count": null,
      "metadata": {
        "id": "4xYfIr6ecF8P",
        "colab": {
          "base_uri": "https://localhost:8080/"
        },
        "outputId": "fc10bbf2-d5c5-467a-eab1-88f7da3b9706"
      },
      "outputs": [
        {
          "output_type": "stream",
          "name": "stdout",
          "text": [
            "+--------------------+--------------------+-----+\n",
            "|  start_station_name|    end_station_name|count|\n",
            "+--------------------+--------------------+-----+\n",
            "|Streeter Dr & Gra...|Streeter Dr & Gra...| 8259|\n",
            "|DuSable Lake Shor...|DuSable Lake Shor...| 4615|\n",
            "|Michigan Ave & Oa...|Michigan Ave & Oa...| 3975|\n",
            "|DuSable Lake Shor...|Streeter Dr & Gra...| 3442|\n",
            "|     Millennium Park|     Millennium Park| 2826|\n",
            "|     Montrose Harbor|     Montrose Harbor| 2478|\n",
            "|DuSable Lake Shor...|DuSable Lake Shor...| 2373|\n",
            "| Theater on the Lake| Theater on the Lake| 2175|\n",
            "|Streeter Dr & Gra...|DuSable Lake Shor...| 2138|\n",
            "|Streeter Dr & Gra...|DuSable Lake Shor...| 1959|\n",
            "+--------------------+--------------------+-----+\n",
            "only showing top 10 rows\n",
            "\n"
          ]
        }
      ],
      "source": [
        "from pyspark.sql.functions import col\n",
        "\n",
        "# Group data by start and end station pairs and count the trips\n",
        "busiest_routes = divvy_df.groupBy(\"start_station_name\", \"end_station_name\").count()\n",
        "\n",
        "# Sort the counts in descending order to find the busiest routes\n",
        "busiest_routes = busiest_routes.orderBy(col(\"count\").desc())\n",
        "\n",
        "# Show the top 10 busiest routes\n",
        "busiest_routes.show(10)"
      ]
    },
    {
      "cell_type": "code",
      "execution_count": null,
      "metadata": {
        "id": "JU2D2Y_jcIHn",
        "colab": {
          "base_uri": "https://localhost:8080/",
          "height": 1000
        },
        "outputId": "633c50a6-8777-43df-99a5-714713c1b850"
      },
      "outputs": [
        {
          "output_type": "display_data",
          "data": {
            "text/plain": [
              "<Figure size 1000x1200 with 1 Axes>"
            ],
            "image/png": "[encoded data removed]"
          },
          "metadata": {}
        }
      ],
      "source": [
        "import matplotlib.pyplot as plt\n",
        "from pyspark.sql.functions import col\n",
        "\n",
        "# Assuming you have already defined busiest_routes DataFrame\n",
        "\n",
        "# Sort the DataFrame by \"count\" column in descending order and limit to the top 20 routes\n",
        "busiest_routes_pd = busiest_routes.orderBy(col(\"count\").desc()).limit(20).toPandas()\n",
        "\n",
        "# Create a bar chart for the top 20 routes\n",
        "plt.figure(figsize=(10, 12))\n",
        "plt.barh(busiest_routes_pd[\"start_station_name\"] + \" to \" + busiest_routes_pd[\"end_station_name\"], busiest_routes_pd[\"count\"])\n",
        "plt.xlabel(\"Count\")\n",
        "plt.ylabel(\"Route\")\n",
        "plt.title(\"Top 20 Busiest Routes\")\n",
        "plt.tight_layout()\n",
        "plt.show()\n"
      ]
    },
    {
      "cell_type": "markdown",
      "metadata": {
        "id": "JSlhd0HucK4t"
      },
      "source": [
        "TEMPORAL ANALYSIS"
      ]
    },
    {
      "cell_type": "code",
      "source": [
        "temporal_df = pd.read_csv(\"cleaned_dataset.csv\")\n",
        "temporal_df"
      ],
      "metadata": {
        "colab": {
          "base_uri": "https://localhost:8080/",
          "height": 424
        },
        "id": "Cw68bsF1lmK6",
        "outputId": "e842c5be-ea14-4622-ef36-606a99b5b065"
      },
      "execution_count": null,
      "outputs": [
        {
          "output_type": "execute_result",
          "data": {
            "text/plain": [
              "         rideable_type           started_at             ended_at  \\\n",
              "0         classic_bike     23/05/2022 23:06     23/05/2022 23:40   \n",
              "1         classic_bike     11/05/2022 08:53     11/05/2022 09:31   \n",
              "2         classic_bike     26/05/2022 18:36     26/05/2022 18:58   \n",
              "3         classic_bike     10/05/2022 07:30     10/05/2022 07:38   \n",
              "4         classic_bike     10/05/2022 17:31     10/05/2022 17:36   \n",
              "...                ...                  ...                  ...   \n",
              "2372747  electric_bike  2022-09-04 19:34:22  2022-09-04 19:45:03   \n",
              "2372748   classic_bike  2022-09-15 17:31:15  2022-09-15 17:45:02   \n",
              "2372749  electric_bike  2022-09-21 08:23:51  2022-09-21 08:29:29   \n",
              "2372750    docked_bike  2022-09-21 14:46:04  2022-09-21 15:18:02   \n",
              "2372751   classic_bike  2022-09-06 15:17:00  2022-09-06 15:25:12   \n",
              "\n",
              "                        start_station_name              end_station_name  \\\n",
              "0                   Wabash Ave & Grand Ave        Halsted St & Roscoe St   \n",
              "1        DuSable Lake Shore Dr & Monroe St   Field Blvd & South Water St   \n",
              "2                  Clinton St & Madison St       Wood St & Milwaukee Ave   \n",
              "3                  Clinton St & Madison St        Clark St & Randolph St   \n",
              "4                  Clinton St & Madison St           Morgan St & Lake St   \n",
              "...                                    ...                           ...   \n",
              "2372747            Canal St & Jackson Blvd  Stetson Ave & South Water St   \n",
              "2372748             State St & Randolph St          McClurg Ct & Ohio St   \n",
              "2372749        Michigan Ave & Jackson Blvd  Stetson Ave & South Water St   \n",
              "2372750        Michigan Ave & Jackson Blvd             Adler Planetarium   \n",
              "2372751             State St & Randolph St          McClurg Ct & Ohio St   \n",
              "\n",
              "         start_lat  start_lng    end_lat    end_lng member_casual  \n",
              "0        41.891466 -87.626761  41.943670 -87.648950        member  \n",
              "1        41.880958 -87.616743  41.886349 -87.617517        member  \n",
              "2        41.882242 -87.641066  41.907655 -87.672552        member  \n",
              "3        41.882242 -87.641066  41.884576 -87.631890        member  \n",
              "4        41.882242 -87.641066  41.885779 -87.651025        member  \n",
              "...            ...        ...        ...        ...           ...  \n",
              "2372747  41.877412 -87.640076  41.886835 -87.622320        member  \n",
              "2372748  41.884621 -87.627834  41.892592 -87.617289        member  \n",
              "2372749  41.877843 -87.624083  41.886835 -87.622320        member  \n",
              "2372750  41.877850 -87.624080  41.866095 -87.607267        casual  \n",
              "2372751  41.884621 -87.627834  41.892592 -87.617289        member  \n",
              "\n",
              "[2372752 rows x 10 columns]"
            ],
            "text/html": [
              "\n",
              "\n",
              "  <div id=\"df-80c6774a-78fe-4e1b-8825-1fe0b5a41831\">\n",
              "    <div class=\"colab-df-container\">\n",
              "      <div>\n",
              "<style scoped>\n",
              "    .dataframe tbody tr th:only-of-type {\n",
              "        vertical-align: middle;\n",
              "    }\n",
              "\n",
              "    .dataframe tbody tr th {\n",
              "        vertical-align: top;\n",
              "    }\n",
              "\n",
              "    .dataframe thead th {\n",
              "        text-align: right;\n",
              "    }\n",
              "</style>\n",
              "<table border=\"1\" class=\"dataframe\">\n",
              "  <thead>\n",
              "    <tr style=\"text-align: right;\">\n",
              "      <th></th>\n",
              "      <th>rideable_type</th>\n",
              "      <th>started_at</th>\n",
              "      <th>ended_at</th>\n",
              "      <th>start_station_name</th>\n",
              "      <th>end_station_name</th>\n",
              "      <th>start_lat</th>\n",
              "      <th>start_lng</th>\n",
              "      <th>end_lat</th>\n",
              "      <th>end_lng</th>\n",
              "      <th>member_casual</th>\n",
              "    </tr>\n",
              "  </thead>\n",
              "  <tbody>\n",
              "    <tr>\n",
              "      <th>0</th>\n",
              "      <td>classic_bike</td>\n",
              "      <td>23/05/2022 23:06</td>\n",
              "      <td>23/05/2022 23:40</td>\n",
              "      <td>Wabash Ave &amp; Grand Ave</td>\n",
              "      <td>Halsted St &amp; Roscoe St</td>\n",
              "      <td>41.891466</td>\n",
              "      <td>-87.626761</td>\n",
              "      <td>41.943670</td>\n",
              "      <td>-87.648950</td>\n",
              "      <td>member</td>\n",
              "    </tr>\n",
              "    <tr>\n",
              "      <th>1</th>\n",
              "      <td>classic_bike</td>\n",
              "      <td>11/05/2022 08:53</td>\n",
              "      <td>11/05/2022 09:31</td>\n",
              "      <td>DuSable Lake Shore Dr &amp; Monroe St</td>\n",
              "      <td>Field Blvd &amp; South Water St</td>\n",
              "      <td>41.880958</td>\n",
              "      <td>-87.616743</td>\n",
              "      <td>41.886349</td>\n",
              "      <td>-87.617517</td>\n",
              "      <td>member</td>\n",
              "    </tr>\n",
              "    <tr>\n",
              "      <th>2</th>\n",
              "      <td>classic_bike</td>\n",
              "      <td>26/05/2022 18:36</td>\n",
              "      <td>26/05/2022 18:58</td>\n",
              "      <td>Clinton St &amp; Madison St</td>\n",
              "      <td>Wood St &amp; Milwaukee Ave</td>\n",
              "      <td>41.882242</td>\n",
              "      <td>-87.641066</td>\n",
              "      <td>41.907655</td>\n",
              "      <td>-87.672552</td>\n",
              "      <td>member</td>\n",
              "    </tr>\n",
              "    <tr>\n",
              "      <th>3</th>\n",
              "      <td>classic_bike</td>\n",
              "      <td>10/05/2022 07:30</td>\n",
              "      <td>10/05/2022 07:38</td>\n",
              "      <td>Clinton St &amp; Madison St</td>\n",
              "      <td>Clark St &amp; Randolph St</td>\n",
              "      <td>41.882242</td>\n",
              "      <td>-87.641066</td>\n",
              "      <td>41.884576</td>\n",
              "      <td>-87.631890</td>\n",
              "      <td>member</td>\n",
              "    </tr>\n",
              "    <tr>\n",
              "      <th>4</th>\n",
              "      <td>classic_bike</td>\n",
              "      <td>10/05/2022 17:31</td>\n",
              "      <td>10/05/2022 17:36</td>\n",
              "      <td>Clinton St &amp; Madison St</td>\n",
              "      <td>Morgan St &amp; Lake St</td>\n",
              "      <td>41.882242</td>\n",
              "      <td>-87.641066</td>\n",
              "      <td>41.885779</td>\n",
              "      <td>-87.651025</td>\n",
              "      <td>member</td>\n",
              "    </tr>\n",
              "    <tr>\n",
              "      <th>...</th>\n",
              "      <td>...</td>\n",
              "      <td>...</td>\n",
              "      <td>...</td>\n",
              "      <td>...</td>\n",
              "      <td>...</td>\n",
              "      <td>...</td>\n",
              "      <td>...</td>\n",
              "      <td>...</td>\n",
              "      <td>...</td>\n",
              "      <td>...</td>\n",
              "    </tr>\n",
              "    <tr>\n",
              "      <th>2372747</th>\n",
              "      <td>electric_bike</td>\n",
              "      <td>2022-09-04 19:34:22</td>\n",
              "      <td>2022-09-04 19:45:03</td>\n",
              "      <td>Canal St &amp; Jackson Blvd</td>\n",
              "      <td>Stetson Ave &amp; South Water St</td>\n",
              "      <td>41.877412</td>\n",
              "      <td>-87.640076</td>\n",
              "      <td>41.886835</td>\n",
              "      <td>-87.622320</td>\n",
              "      <td>member</td>\n",
              "    </tr>\n",
              "    <tr>\n",
              "      <th>2372748</th>\n",
              "      <td>classic_bike</td>\n",
              "      <td>2022-09-15 17:31:15</td>\n",
              "      <td>2022-09-15 17:45:02</td>\n",
              "      <td>State St &amp; Randolph St</td>\n",
              "      <td>McClurg Ct &amp; Ohio St</td>\n",
              "      <td>41.884621</td>\n",
              "      <td>-87.627834</td>\n",
              "      <td>41.892592</td>\n",
              "      <td>-87.617289</td>\n",
              "      <td>member</td>\n",
              "    </tr>\n",
              "    <tr>\n",
              "      <th>2372749</th>\n",
              "      <td>electric_bike</td>\n",
              "      <td>2022-09-21 08:23:51</td>\n",
              "      <td>2022-09-21 08:29:29</td>\n",
              "      <td>Michigan Ave &amp; Jackson Blvd</td>\n",
              "      <td>Stetson Ave &amp; South Water St</td>\n",
              "      <td>41.877843</td>\n",
              "      <td>-87.624083</td>\n",
              "      <td>41.886835</td>\n",
              "      <td>-87.622320</td>\n",
              "      <td>member</td>\n",
              "    </tr>\n",
              "    <tr>\n",
              "      <th>2372750</th>\n",
              "      <td>docked_bike</td>\n",
              "      <td>2022-09-21 14:46:04</td>\n",
              "      <td>2022-09-21 15:18:02</td>\n",
              "      <td>Michigan Ave &amp; Jackson Blvd</td>\n",
              "      <td>Adler Planetarium</td>\n",
              "      <td>41.877850</td>\n",
              "      <td>-87.624080</td>\n",
              "      <td>41.866095</td>\n",
              "      <td>-87.607267</td>\n",
              "      <td>casual</td>\n",
              "    </tr>\n",
              "    <tr>\n",
              "      <th>2372751</th>\n",
              "      <td>classic_bike</td>\n",
              "      <td>2022-09-06 15:17:00</td>\n",
              "      <td>2022-09-06 15:25:12</td>\n",
              "      <td>State St &amp; Randolph St</td>\n",
              "      <td>McClurg Ct &amp; Ohio St</td>\n",
              "      <td>41.884621</td>\n",
              "      <td>-87.627834</td>\n",
              "      <td>41.892592</td>\n",
              "      <td>-87.617289</td>\n",
              "      <td>member</td>\n",
              "    </tr>\n",
              "  </tbody>\n",
              "</table>\n",
              "<p>2372752 rows × 10 columns</p>\n",
              "</div>\n",
              "      <button class=\"colab-df-convert\" onclick=\"convertToInteractive('df-80c6774a-78fe-4e1b-8825-1fe0b5a41831')\"\n",
              "              title=\"Convert this dataframe to an interactive table.\"\n",
              "              style=\"display:none;\">\n",
              "\n",
              "  <svg xmlns=\"http://www.w3.org/2000/svg\" height=\"24px\"viewBox=\"0 0 24 24\"\n",
              "       width=\"24px\">\n",
              "    <path d=\"M0 0h24v24H0V0z\" fill=\"none\"/>\n",
              "    <path d=\"M18.56 5.44l.94 2.06.94-2.06 2.06-.94-2.06-.94-.94-2.06-.94 2.06-2.06.94zm-11 1L8.5 8.5l.94-2.06 2.06-.94-2.06-.94L8.5 2.5l-.94 2.06-2.06.94zm10 10l.94 2.06.94-2.06 2.06-.94-2.06-.94-.94-2.06-.94 2.06-2.06.94z\"/><path d=\"M17.41 7.96l-1.37-1.37c-.4-.4-.92-.59-1.43-.59-.52 0-1.04.2-1.43.59L10.3 9.45l-7.72 7.72c-.78.78-.78 2.05 0 2.83L4 21.41c.39.39.9.59 1.41.59.51 0 1.02-.2 1.41-.59l7.78-7.78 2.81-2.81c.8-.78.8-2.07 0-2.86zM5.41 20L4 18.59l7.72-7.72 1.47 1.35L5.41 20z\"/>\n",
              "  </svg>\n",
              "      </button>\n",
              "\n",
              "\n",
              "\n",
              "    <div id=\"df-7b88a7cb-d70f-4e56-97f8-d597a8dcccfc\">\n",
              "      <button class=\"colab-df-quickchart\" onclick=\"quickchart('df-7b88a7cb-d70f-4e56-97f8-d597a8dcccfc')\"\n",
              "              title=\"Suggest charts.\"\n",
              "              style=\"display:none;\">\n",
              "\n",
              "<svg xmlns=\"http://www.w3.org/2000/svg\" height=\"24px\"viewBox=\"0 0 24 24\"\n",
              "     width=\"24px\">\n",
              "    <g>\n",
              "        <path d=\"M19 3H5c-1.1 0-2 .9-2 2v14c0 1.1.9 2 2 2h14c1.1 0 2-.9 2-2V5c0-1.1-.9-2-2-2zM9 17H7v-7h2v7zm4 0h-2V7h2v10zm4 0h-2v-4h2v4z\"/>\n",
              "    </g>\n",
              "</svg>\n",
              "      </button>\n",
              "    </div>\n",
              "\n",
              "<style>\n",
              "  .colab-df-quickchart {\n",
              "    background-color: #E8F0FE;\n",
              "    border: none;\n",
              "    border-radius: 50%;\n",
              "    cursor: pointer;\n",
              "    display: none;\n",
              "    fill: #1967D2;\n",
              "    height: 32px;\n",
              "    padding: 0 0 0 0;\n",
              "    width: 32px;\n",
              "  }\n",
              "\n",
              "  .colab-df-quickchart:hover {\n",
              "    background-color: #E2EBFA;\n",
              "    box-shadow: 0px 1px 2px rgba(60, 64, 67, 0.3), 0px 1px 3px 1px rgba(60, 64, 67, 0.15);\n",
              "    fill: #174EA6;\n",
              "  }\n",
              "\n",
              "  [theme=dark] .colab-df-quickchart {\n",
              "    background-color: #3B4455;\n",
              "    fill: #D2E3FC;\n",
              "  }\n",
              "\n",
              "  [theme=dark] .colab-df-quickchart:hover {\n",
              "    background-color: #434B5C;\n",
              "    box-shadow: 0px 1px 3px 1px rgba(0, 0, 0, 0.15);\n",
              "    filter: drop-shadow(0px 1px 2px rgba(0, 0, 0, 0.3));\n",
              "    fill: #FFFFFF;\n",
              "  }\n",
              "</style>\n",
              "\n",
              "    <script>\n",
              "      async function quickchart(key) {\n",
              "        const containerElement = document.querySelector('#' + key);\n",
              "        const charts = await google.colab.kernel.invokeFunction(\n",
              "            'suggestCharts', [key], {});\n",
              "      }\n",
              "    </script>\n",
              "\n",
              "      <script>\n",
              "\n",
              "function displayQuickchartButton(domScope) {\n",
              "  let quickchartButtonEl =\n",
              "    domScope.querySelector('#df-7b88a7cb-d70f-4e56-97f8-d597a8dcccfc button.colab-df-quickchart');\n",
              "  quickchartButtonEl.style.display =\n",
              "    google.colab.kernel.accessAllowed ? 'block' : 'none';\n",
              "}\n",
              "\n",
              "        displayQuickchartButton(document);\n",
              "      </script>\n",
              "      <style>\n",
              "    .colab-df-container {\n",
              "      display:flex;\n",
              "      flex-wrap:wrap;\n",
              "      gap: 12px;\n",
              "    }\n",
              "\n",
              "    .colab-df-convert {\n",
              "      background-color: #E8F0FE;\n",
              "      border: none;\n",
              "      border-radius: 50%;\n",
              "      cursor: pointer;\n",
              "      display: none;\n",
              "      fill: #1967D2;\n",
              "      height: 32px;\n",
              "      padding: 0 0 0 0;\n",
              "      width: 32px;\n",
              "    }\n",
              "\n",
              "    .colab-df-convert:hover {\n",
              "      background-color: #E2EBFA;\n",
              "      box-shadow: 0px 1px 2px rgba(60, 64, 67, 0.3), 0px 1px 3px 1px rgba(60, 64, 67, 0.15);\n",
              "      fill: #174EA6;\n",
              "    }\n",
              "\n",
              "    [theme=dark] .colab-df-convert {\n",
              "      background-color: #3B4455;\n",
              "      fill: #D2E3FC;\n",
              "    }\n",
              "\n",
              "    [theme=dark] .colab-df-convert:hover {\n",
              "      background-color: #434B5C;\n",
              "      box-shadow: 0px 1px 3px 1px rgba(0, 0, 0, 0.15);\n",
              "      filter: drop-shadow(0px 1px 2px rgba(0, 0, 0, 0.3));\n",
              "      fill: #FFFFFF;\n",
              "    }\n",
              "  </style>\n",
              "\n",
              "      <script>\n",
              "        const buttonEl =\n",
              "          document.querySelector('#df-80c6774a-78fe-4e1b-8825-1fe0b5a41831 button.colab-df-convert');\n",
              "        buttonEl.style.display =\n",
              "          google.colab.kernel.accessAllowed ? 'block' : 'none';\n",
              "\n",
              "        async function convertToInteractive(key) {\n",
              "          const element = document.querySelector('#df-80c6774a-78fe-4e1b-8825-1fe0b5a41831');\n",
              "          const dataTable =\n",
              "            await google.colab.kernel.invokeFunction('convertToInteractive',\n",
              "                                                     [key], {});\n",
              "          if (!dataTable) return;\n",
              "\n",
              "          const docLinkHtml = 'Like what you see? Visit the ' +\n",
              "            '<a target=\"_blank\" href=https://colab.research.google.com/notebooks/data_table.ipynb>data table notebook</a>'\n",
              "            + ' to learn more about interactive tables.';\n",
              "          element.innerHTML = '';\n",
              "          dataTable['output_type'] = 'display_data';\n",
              "          await google.colab.output.renderOutput(dataTable, element);\n",
              "          const docLink = document.createElement('div');\n",
              "          docLink.innerHTML = docLinkHtml;\n",
              "          element.appendChild(docLink);\n",
              "        }\n",
              "      </script>\n",
              "    </div>\n",
              "  </div>\n"
            ]
          },
          "metadata": {},
          "execution_count": 109
        }
      ]
    },
    {
      "cell_type": "code",
      "source": [
        "temporal_df.info()"
      ],
      "metadata": {
        "colab": {
          "base_uri": "https://localhost:8080/"
        },
        "id": "zaZID7d3qMGz",
        "outputId": "19f475e6-d92b-4bd7-b690-433d09a92dac"
      },
      "execution_count": null,
      "outputs": [
        {
          "output_type": "stream",
          "name": "stdout",
          "text": [
            "<class 'pandas.core.frame.DataFrame'>\n",
            "RangeIndex: 2372752 entries, 0 to 2372751\n",
            "Data columns (total 10 columns):\n",
            " #   Column              Dtype  \n",
            "---  ------              -----  \n",
            " 0   rideable_type       object \n",
            " 1   started_at          object \n",
            " 2   ended_at            object \n",
            " 3   start_station_name  object \n",
            " 4   end_station_name    object \n",
            " 5   start_lat           float64\n",
            " 6   start_lng           float64\n",
            " 7   end_lat             float64\n",
            " 8   end_lng             float64\n",
            " 9   member_casual       object \n",
            "dtypes: float64(4), object(6)\n",
            "memory usage: 181.0+ MB\n"
          ]
        }
      ]
    },
    {
      "cell_type": "code",
      "source": [
        "temporal_df.shape"
      ],
      "metadata": {
        "colab": {
          "base_uri": "https://localhost:8080/"
        },
        "id": "ltT4cHq6qPqb",
        "outputId": "a95ac663-6f37-4f6e-b917-267b683192c1"
      },
      "execution_count": null,
      "outputs": [
        {
          "output_type": "execute_result",
          "data": {
            "text/plain": [
              "(2372752, 10)"
            ]
          },
          "metadata": {},
          "execution_count": 111
        }
      ]
    },
    {
      "cell_type": "code",
      "source": [
        "import pandas as pd\n",
        "import matplotlib.pyplot as plt\n",
        "\n",
        "# Assuming you have already loaded the DataFrame 'temporal_df' from the CSV file\n",
        "\n",
        "# Convert the \"started_at\" column to pandas datetime format for easy manipulation\n",
        "temporal_df[\"started_at\"] = pd.to_datetime(temporal_df[\"started_at\"], infer_datetime_format=True)\n",
        "\n",
        "# Extract the month-year information from the \"started_at\" column\n",
        "temporal_df[\"month_year\"] = temporal_df[\"started_at\"].dt.to_period(\"M\")\n",
        "\n",
        "# Group the data by month-year and calculate the ride counts for each month\n",
        "ride_counts_per_month = temporal_df[\"month_year\"].value_counts().sort_index()\n",
        "\n",
        "# Create a DataFrame with all the months from May 2022 to April 2023\n",
        "all_months_years = pd.period_range(start=\"2022-05\", end=\"2023-04\", freq=\"M\")\n",
        "all_months_years_str = all_months_years.strftime(\"%Y-%m\")\n",
        "\n",
        "# Reindex the ride counts with the complete list of month-year strings and fill missing months with zero counts\n",
        "ride_counts_per_month = ride_counts_per_month.reindex(all_months_years_str, fill_value=0)\n",
        "\n",
        "# Create a DataFrame with month-year and ride count information\n",
        "ride_counts_df = pd.DataFrame({\n",
        "    \"Month-Year\": all_months_years_str,\n",
        "    \"Ride Count\": ride_counts_per_month.values\n",
        "})\n",
        "\n",
        "# Display the table of months with their corresponding counts\n",
        "print(ride_counts_df)\n",
        "\n",
        "# Plot the ride counts for each month as a bar chart\n",
        "plt.figure(figsize=(10, 6))\n",
        "plt.bar(ride_counts_per_month.index, ride_counts_per_month, color='skyblue')\n",
        "plt.xlabel(\"Month-Year\")\n",
        "plt.ylabel(\"Ride Count\")\n",
        "plt.title(\"Ride Counts per Month from May 2022 to April 2023\")\n",
        "plt.xticks(rotation=45)\n",
        "plt.tight_layout()\n",
        "plt.show()\n"
      ],
      "metadata": {
        "colab": {
          "base_uri": "https://localhost:8080/",
          "height": 833
        },
        "id": "yfqgvHMmsLBc",
        "outputId": "c1d0a3ae-0851-4e87-bf7b-7e19e9e6c674"
      },
      "execution_count": null,
      "outputs": [
        {
          "output_type": "stream",
          "name": "stdout",
          "text": [
            "   Month-Year  Ride Count\n",
            "0     2022-05      357093\n",
            "1     2022-06      625630\n",
            "2     2022-07      658789\n",
            "3     2022-08      617540\n",
            "4     2022-09       19189\n",
            "5     2022-10       20700\n",
            "6     2022-11       19065\n",
            "7     2022-12       20418\n",
            "8     2023-01           0\n",
            "9     2023-02           0\n",
            "10    2023-03           0\n",
            "11    2023-04           0\n"
          ]
        },
        {
          "output_type": "display_data",
          "data": {
            "text/plain": [
              "<Figure size 1000x600 with 1 Axes>"
            ],
            "image/png": "[encoded data removed]"
          },
          "metadata": {}
        }
      ]
    },
    {
      "cell_type": "code",
      "source": [],
      "metadata": {
        "id": "ielQR9-BsLHW"
      },
      "execution_count": null,
      "outputs": []
    },
    {
      "cell_type": "markdown",
      "source": [
        "RIDER ANALYSIS\n"
      ],
      "metadata": {
        "id": "scjIfqssQBap"
      }
    },
    {
      "cell_type": "code",
      "source": [
        "from pyspark.sql import functions as F\n",
        "\n",
        "# Group by 'member_casual' and count the number of rides for each type\n",
        "rider_counts = divvy_df.groupBy('member_casual').count()\n",
        "\n",
        "# Display the result\n",
        "rider_counts.show()\n",
        "# Assuming you have already executed the code to get the 'rider_counts' DataFrame\n",
        "# Convert the PySpark DataFrame to a Pandas DataFrame\n",
        "rider_counts_pd = rider_counts.toPandas()\n",
        "\n",
        "# Plot the data as a bar graph\n",
        "plt.bar(rider_counts_pd['member_casual'], rider_counts_pd['count'], color='skyblue')\n",
        "plt.xlabel('Rider Type')\n",
        "plt.ylabel('Number of Rides')\n",
        "plt.title('Number of Rides by Rider Type')\n",
        "plt.show()\n"
      ],
      "metadata": {
        "id": "3BziwJV4QC97",
        "colab": {
          "base_uri": "https://localhost:8080/",
          "height": 594
        },
        "outputId": "faf5e56e-8918-4d96-d029-2c7cb1642460"
      },
      "execution_count": null,
      "outputs": [
        {
          "output_type": "stream",
          "name": "stdout",
          "text": [
            "+-------------+-------+\n",
            "|member_casual|  count|\n",
            "+-------------+-------+\n",
            "|       casual|1094987|\n",
            "|       member|1277765|\n",
            "+-------------+-------+\n",
            "\n"
          ]
        },
        {
          "output_type": "display_data",
          "data": {
            "text/plain": [
              "<Figure size 640x480 with 1 Axes>"
            ],
            "image/png": "[encoded data removed]"
          },
          "metadata": {}
        }
      ]
    },
    {
      "cell_type": "code",
      "source": [
        "import pandas as pd\n",
        "import matplotlib.pyplot as plt\n",
        "import pyspark.sql.functions as F\n",
        "\n",
        "# Assuming you have already calculated 'avg_ride_duration' DataFrame as shown in the code snippet\n",
        "\n",
        "# Convert the 'avg_ride_duration' DataFrame to Pandas for plotting\n",
        "avg_ride_duration_pd = avg_ride_duration.toPandas()\n",
        "\n",
        "# Plot the average ride duration for each member type\n",
        "plt.figure(figsize=(6, 4))\n",
        "plt.bar(avg_ride_duration_pd['member_casual'], avg_ride_duration_pd['avg_ride_duration'], color='skyblue')\n",
        "plt.xlabel(\"Member Type\")\n",
        "plt.ylabel(\"Average Ride Duration (minutes)\")\n",
        "plt.title(\"Average Ride Duration by Member Type\")\n",
        "plt.xticks(rotation=45)\n",
        "plt.tight_layout()\n",
        "plt.show()\n",
        "\n"
      ],
      "metadata": {
        "colab": {
          "base_uri": "https://localhost:8080/",
          "height": 407
        },
        "id": "nVdRb1YlIr6-",
        "outputId": "80abd6d3-ee05-4725-a91d-dae5ac255fa1"
      },
      "execution_count": null,
      "outputs": [
        {
          "output_type": "display_data",
          "data": {
            "text/plain": [
              "<Figure size 600x400 with 1 Axes>"
            ],
            "image/png": "[encoded data removed]"
          },
          "metadata": {}
        }
      ]
    },
    {
      "cell_type": "code",
      "source": [
        "# Group by 'member_casual' and 'rideable_type' and count the number of rides for each combination\n",
        "rideable_type_counts = divvy_df.groupBy('member_casual', 'rideable_type').count()\n",
        "\n",
        "# For each 'member_casual', find the rideable type with the maximum count\n",
        "from pyspark.sql.window import Window\n",
        "from pyspark.sql import DataFrame\n",
        "\n",
        "window_spec = Window.partitionBy('member_casual').orderBy(F.desc('count'))\n",
        "most_popular_rideable_type = rideable_type_counts.withColumn('rank', F.rank().over(window_spec)).filter(F.col('rank') == 1).drop('rank')\n",
        "\n",
        "# Show the result for classic bikes\n",
        "most_popular_rideable_type.filter(F.col('rideable_type') == 'classic_bike').show()\n"
      ],
      "metadata": {
        "colab": {
          "base_uri": "https://localhost:8080/"
        },
        "id": "ju7M34cSIs-p",
        "outputId": "cd7f0ae7-cb28-4d71-be3c-eee5f06f5bb1"
      },
      "execution_count": null,
      "outputs": [
        {
          "output_type": "stream",
          "name": "stdout",
          "text": [
            "+-------------+-------------+------+\n",
            "|member_casual|rideable_type| count|\n",
            "+-------------+-------------+------+\n",
            "|       casual| classic_bike|579613|\n",
            "|       member| classic_bike|867357|\n",
            "+-------------+-------------+------+\n",
            "\n"
          ]
        }
      ]
    },
    {
      "cell_type": "code",
      "source": [
        "import pandas as pd\n",
        "import matplotlib.pyplot as plt\n",
        "import pyspark.sql.functions as F\n",
        "from pyspark.sql.window import Window\n",
        "\n",
        "# Assuming you have already calculated 'rideable_type_counts' DataFrame as shown in the code snippet\n",
        "\n",
        "# Filter the DataFrame for classic bikes\n",
        "classic_bikes_df = rideable_type_counts.filter(F.col('rideable_type') == 'classic_bike').toPandas()\n",
        "\n",
        "# Plot the most popular rideable type for each member type for classic bikes as a bar plot\n",
        "plt.figure(figsize=(6, 4))\n",
        "plt.bar(classic_bikes_df['member_casual'], classic_bikes_df['count'], color='skyblue')\n",
        "plt.xlabel(\"Member Type\")\n",
        "plt.ylabel(\"Count\")\n",
        "plt.title(\"Most Popular Rideable Type for Classic Bikes\")\n",
        "plt.xticks(rotation=45)\n",
        "plt.tight_layout()\n",
        "plt.show()\n"
      ],
      "metadata": {
        "colab": {
          "base_uri": "https://localhost:8080/",
          "height": 407
        },
        "id": "aJv4ptV5ADuH",
        "outputId": "814996b5-9380-48d5-a2b1-3dfb5d074fe5"
      },
      "execution_count": null,
      "outputs": [
        {
          "output_type": "display_data",
          "data": {
            "text/plain": [
              "<Figure size 600x400 with 1 Axes>"
            ],
            "image/png": "[encoded data removed]"
          },
          "metadata": {}
        }
      ]
    },
    {
      "cell_type": "code",
      "source": [
        "# Show the result for electric bikes\n",
        "most_popular_rideable_type.filter(F.col('rideable_type') == 'electric_bike').show()\n"
      ],
      "metadata": {
        "colab": {
          "base_uri": "https://localhost:8080/"
        },
        "id": "S0URLvfs_Gm6",
        "outputId": "60e0c068-b132-47ef-e3fa-fa24c6592b78"
      },
      "execution_count": null,
      "outputs": [
        {
          "output_type": "stream",
          "name": "stdout",
          "text": [
            "+-------------+-------------+-----+\n",
            "|member_casual|rideable_type|count|\n",
            "+-------------+-------------+-----+\n",
            "+-------------+-------------+-----+\n",
            "\n"
          ]
        }
      ]
    },
    {
      "cell_type": "code",
      "source": [
        "# Filter the DataFrame for electric bikes\n",
        "electric_bikes_df = rideable_type_counts.filter(F.col('rideable_type') == 'electric_bike').toPandas()\n",
        "\n",
        "# Plot the most popular rideable type for each member type for electric bikes as a bar plot\n",
        "plt.figure(figsize=(6, 4))\n",
        "plt.bar(electric_bikes_df['member_casual'], electric_bikes_df['count'], color='lightgreen')\n",
        "plt.xlabel(\"Member Type\")\n",
        "plt.ylabel(\"Count\")\n",
        "plt.title(\"Most Popular Rideable Type for Electric Bikes\")\n",
        "plt.xticks(rotation=45)\n",
        "plt.tight_layout()\n",
        "plt.show()\n"
      ],
      "metadata": {
        "colab": {
          "base_uri": "https://localhost:8080/",
          "height": 407
        },
        "id": "2YXJ_BHiAH-K",
        "outputId": "7a7505ee-9a25-46e3-e4dc-f612ca83c4b4"
      },
      "execution_count": null,
      "outputs": [
        {
          "output_type": "display_data",
          "data": {
            "text/plain": [
              "<Figure size 600x400 with 1 Axes>"
            ],
            "image/png": "[encoded data removed]"
          },
          "metadata": {}
        }
      ]
    },
    {
      "cell_type": "code",
      "source": [
        "# Show the result for docked bikes\n",
        "most_popular_rideable_type.filter(F.col('rideable_type') == 'docked_bike').show()\n"
      ],
      "metadata": {
        "colab": {
          "base_uri": "https://localhost:8080/"
        },
        "id": "eG5jgbrk_PSg",
        "outputId": "e2301b51-f3a9-4407-d345-b0188f84aa9a"
      },
      "execution_count": null,
      "outputs": [
        {
          "output_type": "stream",
          "name": "stdout",
          "text": [
            "+-------------+-------------+-----+\n",
            "|member_casual|rideable_type|count|\n",
            "+-------------+-------------+-----+\n",
            "+-------------+-------------+-----+\n",
            "\n"
          ]
        }
      ]
    },
    {
      "cell_type": "code",
      "source": [
        "# Filter the DataFrame for docked bikes\n",
        "docked_bikes_df = rideable_type_counts.filter(F.col('rideable_type') == 'docked_bike').toPandas()\n",
        "\n",
        "# Plot the most popular rideable type for each member type for docked bikes as a bar plot\n",
        "plt.figure(figsize=(6, 4))\n",
        "plt.bar(docked_bikes_df['member_casual'], docked_bikes_df['count'], color='lightcoral')\n",
        "plt.xlabel(\"Member Type\")\n",
        "plt.ylabel(\"Count\")\n",
        "plt.title(\"Most Popular Rideable Type for Docked Bikes\")\n",
        "plt.xticks(rotation=45)\n",
        "plt.tight_layout()\n",
        "plt.show()\n"
      ],
      "metadata": {
        "colab": {
          "base_uri": "https://localhost:8080/",
          "height": 407
        },
        "id": "jSbEsSJ2ANCF",
        "outputId": "ea73a351-e020-4154-c12e-f78de8df61d9"
      },
      "execution_count": null,
      "outputs": [
        {
          "output_type": "display_data",
          "data": {
            "text/plain": [
              "<Figure size 600x400 with 1 Axes>"
            ],
            "image/png": "[encoded data removed]"
          },
          "metadata": {}
        }
      ]
    },
    {
      "cell_type": "markdown",
      "source": [
        "FORECASTING\n",
        "\n",
        "\n"
      ],
      "metadata": {
        "id": "tNYyPsm6J_Ja"
      }
    },
    {
      "cell_type": "markdown",
      "source": [
        "Time Series analysis"
      ],
      "metadata": {
        "id": "CFEnpyPOkAn7"
      }
    },
    {
      "cell_type": "code",
      "source": [
        "!pip install pmdarima\n"
      ],
      "metadata": {
        "colab": {
          "base_uri": "https://localhost:8080/"
        },
        "id": "uROlYwRDAs7m",
        "outputId": "d2db23d4-713d-405f-8f24-db01a69ffc36"
      },
      "execution_count": null,
      "outputs": [
        {
          "output_type": "stream",
          "name": "stdout",
          "text": [
            "Collecting pmdarima\n",
            "  Downloading pmdarima-2.0.3-cp310-cp310-manylinux_2_17_x86_64.manylinux2014_x86_64.manylinux_2_28_x86_64.whl (1.8 MB)\n",
            "\u001b[2K     \u001b[90m━━━━━━━━━━━━━━━━━━━━━━━━━━━━━━━━━━━━━━━━\u001b[0m \u001b[32m1.8/1.8 MB\u001b[0m \u001b[31m7.9 MB/s\u001b[0m eta \u001b[36m0:00:00\u001b[0m\n",
            "\u001b[?25hRequirement already satisfied: joblib>=0.11 in /usr/local/lib/python3.10/dist-packages (from pmdarima) (1.3.1)\n",
            "Requirement already satisfied: Cython!=0.29.18,!=0.29.31,>=0.29 in /usr/local/lib/python3.10/dist-packages (from pmdarima) (0.29.36)\n",
            "Requirement already satisfied: numpy>=1.21.2 in /usr/local/lib/python3.10/dist-packages (from pmdarima) (1.22.4)\n",
            "Requirement already satisfied: pandas>=0.19 in /usr/local/lib/python3.10/dist-packages (from pmdarima) (1.5.3)\n",
            "Requirement already satisfied: scikit-learn>=0.22 in /usr/local/lib/python3.10/dist-packages (from pmdarima) (1.2.2)\n",
            "Requirement already satisfied: scipy>=1.3.2 in /usr/local/lib/python3.10/dist-packages (from pmdarima) (1.10.1)\n",
            "Requirement already satisfied: statsmodels>=0.13.2 in /usr/local/lib/python3.10/dist-packages (from pmdarima) (0.13.5)\n",
            "Requirement already satisfied: urllib3 in /usr/local/lib/python3.10/dist-packages (from pmdarima) (1.26.16)\n",
            "Requirement already satisfied: setuptools!=50.0.0,>=38.6.0 in /usr/local/lib/python3.10/dist-packages (from pmdarima) (67.7.2)\n",
            "Requirement already satisfied: python-dateutil>=2.8.1 in /usr/local/lib/python3.10/dist-packages (from pandas>=0.19->pmdarima) (2.8.2)\n",
            "Requirement already satisfied: pytz>=2020.1 in /usr/local/lib/python3.10/dist-packages (from pandas>=0.19->pmdarima) (2022.7.1)\n",
            "Requirement already satisfied: threadpoolctl>=2.0.0 in /usr/local/lib/python3.10/dist-packages (from scikit-learn>=0.22->pmdarima) (3.2.0)\n",
            "Requirement already satisfied: patsy>=0.5.2 in /usr/local/lib/python3.10/dist-packages (from statsmodels>=0.13.2->pmdarima) (0.5.3)\n",
            "Requirement already satisfied: packaging>=21.3 in /usr/local/lib/python3.10/dist-packages (from statsmodels>=0.13.2->pmdarima) (23.1)\n",
            "Requirement already satisfied: six in /usr/local/lib/python3.10/dist-packages (from patsy>=0.5.2->statsmodels>=0.13.2->pmdarima) (1.16.0)\n",
            "Installing collected packages: pmdarima\n",
            "Successfully installed pmdarima-2.0.3\n"
          ]
        }
      ]
    },
    {
      "cell_type": "code",
      "source": [
        "# Assuming you have already loaded the DataFrame 'temporal_df' from the CSV file\n",
        "\n",
        "# Display the column names in the DataFrame\n",
        "temporal_df.columns\n",
        "\n",
        "# Display the first few rows of the DataFrame\n",
        "temporal_df.head()\n"
      ],
      "metadata": {
        "colab": {
          "base_uri": "https://localhost:8080/",
          "height": 238
        },
        "id": "UedE1sk0Fi0n",
        "outputId": "948f352f-5320-49b2-c8d3-879bf93ceb02"
      },
      "execution_count": null,
      "outputs": [
        {
          "output_type": "execute_result",
          "data": {
            "text/plain": [
              "                    rideable_type          ended_at  \\\n",
              "started_at                                            \n",
              "2022-05-23 23:06:00  classic_bike  23/05/2022 23:40   \n",
              "2022-11-05 08:53:00  classic_bike  11/05/2022 09:31   \n",
              "2022-05-26 18:36:00  classic_bike  26/05/2022 18:58   \n",
              "2022-10-05 07:30:00  classic_bike  10/05/2022 07:38   \n",
              "2022-10-05 17:31:00  classic_bike  10/05/2022 17:36   \n",
              "\n",
              "                                    start_station_name  \\\n",
              "started_at                                               \n",
              "2022-05-23 23:06:00             Wabash Ave & Grand Ave   \n",
              "2022-11-05 08:53:00  DuSable Lake Shore Dr & Monroe St   \n",
              "2022-05-26 18:36:00            Clinton St & Madison St   \n",
              "2022-10-05 07:30:00            Clinton St & Madison St   \n",
              "2022-10-05 17:31:00            Clinton St & Madison St   \n",
              "\n",
              "                                end_station_name  start_lat  start_lng  \\\n",
              "started_at                                                               \n",
              "2022-05-23 23:06:00       Halsted St & Roscoe St  41.891466 -87.626761   \n",
              "2022-11-05 08:53:00  Field Blvd & South Water St  41.880958 -87.616743   \n",
              "2022-05-26 18:36:00      Wood St & Milwaukee Ave  41.882242 -87.641066   \n",
              "2022-10-05 07:30:00       Clark St & Randolph St  41.882242 -87.641066   \n",
              "2022-10-05 17:31:00          Morgan St & Lake St  41.882242 -87.641066   \n",
              "\n",
              "                       end_lat    end_lng member_casual month_year  \n",
              "started_at                                                          \n",
              "2022-05-23 23:06:00  41.943670 -87.648950        member    2022-05  \n",
              "2022-11-05 08:53:00  41.886349 -87.617517        member    2022-11  \n",
              "2022-05-26 18:36:00  41.907655 -87.672552        member    2022-05  \n",
              "2022-10-05 07:30:00  41.884576 -87.631890        member    2022-10  \n",
              "2022-10-05 17:31:00  41.885779 -87.651025        member    2022-10  "
            ],
            "text/html": [
              "\n",
              "\n",
              "  <div id=\"df-f029754d-c6ab-41c0-ba41-a779a05cf16d\">\n",
              "    <div class=\"colab-df-container\">\n",
              "      <div>\n",
              "<style scoped>\n",
              "    .dataframe tbody tr th:only-of-type {\n",
              "        vertical-align: middle;\n",
              "    }\n",
              "\n",
              "    .dataframe tbody tr th {\n",
              "        vertical-align: top;\n",
              "    }\n",
              "\n",
              "    .dataframe thead th {\n",
              "        text-align: right;\n",
              "    }\n",
              "</style>\n",
              "<table border=\"1\" class=\"dataframe\">\n",
              "  <thead>\n",
              "    <tr style=\"text-align: right;\">\n",
              "      <th></th>\n",
              "      <th>rideable_type</th>\n",
              "      <th>ended_at</th>\n",
              "      <th>start_station_name</th>\n",
              "      <th>end_station_name</th>\n",
              "      <th>start_lat</th>\n",
              "      <th>start_lng</th>\n",
              "      <th>end_lat</th>\n",
              "      <th>end_lng</th>\n",
              "      <th>member_casual</th>\n",
              "      <th>month_year</th>\n",
              "    </tr>\n",
              "    <tr>\n",
              "      <th>started_at</th>\n",
              "      <th></th>\n",
              "      <th></th>\n",
              "      <th></th>\n",
              "      <th></th>\n",
              "      <th></th>\n",
              "      <th></th>\n",
              "      <th></th>\n",
              "      <th></th>\n",
              "      <th></th>\n",
              "      <th></th>\n",
              "    </tr>\n",
              "  </thead>\n",
              "  <tbody>\n",
              "    <tr>\n",
              "      <th>2022-05-23 23:06:00</th>\n",
              "      <td>classic_bike</td>\n",
              "      <td>23/05/2022 23:40</td>\n",
              "      <td>Wabash Ave &amp; Grand Ave</td>\n",
              "      <td>Halsted St &amp; Roscoe St</td>\n",
              "      <td>41.891466</td>\n",
              "      <td>-87.626761</td>\n",
              "      <td>41.943670</td>\n",
              "      <td>-87.648950</td>\n",
              "      <td>member</td>\n",
              "      <td>2022-05</td>\n",
              "    </tr>\n",
              "    <tr>\n",
              "      <th>2022-11-05 08:53:00</th>\n",
              "      <td>classic_bike</td>\n",
              "      <td>11/05/2022 09:31</td>\n",
              "      <td>DuSable Lake Shore Dr &amp; Monroe St</td>\n",
              "      <td>Field Blvd &amp; South Water St</td>\n",
              "      <td>41.880958</td>\n",
              "      <td>-87.616743</td>\n",
              "      <td>41.886349</td>\n",
              "      <td>-87.617517</td>\n",
              "      <td>member</td>\n",
              "      <td>2022-11</td>\n",
              "    </tr>\n",
              "    <tr>\n",
              "      <th>2022-05-26 18:36:00</th>\n",
              "      <td>classic_bike</td>\n",
              "      <td>26/05/2022 18:58</td>\n",
              "      <td>Clinton St &amp; Madison St</td>\n",
              "      <td>Wood St &amp; Milwaukee Ave</td>\n",
              "      <td>41.882242</td>\n",
              "      <td>-87.641066</td>\n",
              "      <td>41.907655</td>\n",
              "      <td>-87.672552</td>\n",
              "      <td>member</td>\n",
              "      <td>2022-05</td>\n",
              "    </tr>\n",
              "    <tr>\n",
              "      <th>2022-10-05 07:30:00</th>\n",
              "      <td>classic_bike</td>\n",
              "      <td>10/05/2022 07:38</td>\n",
              "      <td>Clinton St &amp; Madison St</td>\n",
              "      <td>Clark St &amp; Randolph St</td>\n",
              "      <td>41.882242</td>\n",
              "      <td>-87.641066</td>\n",
              "      <td>41.884576</td>\n",
              "      <td>-87.631890</td>\n",
              "      <td>member</td>\n",
              "      <td>2022-10</td>\n",
              "    </tr>\n",
              "    <tr>\n",
              "      <th>2022-10-05 17:31:00</th>\n",
              "      <td>classic_bike</td>\n",
              "      <td>10/05/2022 17:36</td>\n",
              "      <td>Clinton St &amp; Madison St</td>\n",
              "      <td>Morgan St &amp; Lake St</td>\n",
              "      <td>41.882242</td>\n",
              "      <td>-87.641066</td>\n",
              "      <td>41.885779</td>\n",
              "      <td>-87.651025</td>\n",
              "      <td>member</td>\n",
              "      <td>2022-10</td>\n",
              "    </tr>\n",
              "  </tbody>\n",
              "</table>\n",
              "</div>\n",
              "      <button class=\"colab-df-convert\" onclick=\"convertToInteractive('df-f029754d-c6ab-41c0-ba41-a779a05cf16d')\"\n",
              "              title=\"Convert this dataframe to an interactive table.\"\n",
              "              style=\"display:none;\">\n",
              "\n",
              "  <svg xmlns=\"http://www.w3.org/2000/svg\" height=\"24px\"viewBox=\"0 0 24 24\"\n",
              "       width=\"24px\">\n",
              "    <path d=\"M0 0h24v24H0V0z\" fill=\"none\"/>\n",
              "    <path d=\"M18.56 5.44l.94 2.06.94-2.06 2.06-.94-2.06-.94-.94-2.06-.94 2.06-2.06.94zm-11 1L8.5 8.5l.94-2.06 2.06-.94-2.06-.94L8.5 2.5l-.94 2.06-2.06.94zm10 10l.94 2.06.94-2.06 2.06-.94-2.06-.94-.94-2.06-.94 2.06-2.06.94z\"/><path d=\"M17.41 7.96l-1.37-1.37c-.4-.4-.92-.59-1.43-.59-.52 0-1.04.2-1.43.59L10.3 9.45l-7.72 7.72c-.78.78-.78 2.05 0 2.83L4 21.41c.39.39.9.59 1.41.59.51 0 1.02-.2 1.41-.59l7.78-7.78 2.81-2.81c.8-.78.8-2.07 0-2.86zM5.41 20L4 18.59l7.72-7.72 1.47 1.35L5.41 20z\"/>\n",
              "  </svg>\n",
              "      </button>\n",
              "\n",
              "\n",
              "\n",
              "    <div id=\"df-c272cf1d-d03e-4ace-9dc1-d85ea7f85efb\">\n",
              "      <button class=\"colab-df-quickchart\" onclick=\"quickchart('df-c272cf1d-d03e-4ace-9dc1-d85ea7f85efb')\"\n",
              "              title=\"Suggest charts.\"\n",
              "              style=\"display:none;\">\n",
              "\n",
              "<svg xmlns=\"http://www.w3.org/2000/svg\" height=\"24px\"viewBox=\"0 0 24 24\"\n",
              "     width=\"24px\">\n",
              "    <g>\n",
              "        <path d=\"M19 3H5c-1.1 0-2 .9-2 2v14c0 1.1.9 2 2 2h14c1.1 0 2-.9 2-2V5c0-1.1-.9-2-2-2zM9 17H7v-7h2v7zm4 0h-2V7h2v10zm4 0h-2v-4h2v4z\"/>\n",
              "    </g>\n",
              "</svg>\n",
              "      </button>\n",
              "    </div>\n",
              "\n",
              "<style>\n",
              "  .colab-df-quickchart {\n",
              "    background-color: #E8F0FE;\n",
              "    border: none;\n",
              "    border-radius: 50%;\n",
              "    cursor: pointer;\n",
              "    display: none;\n",
              "    fill: #1967D2;\n",
              "    height: 32px;\n",
              "    padding: 0 0 0 0;\n",
              "    width: 32px;\n",
              "  }\n",
              "\n",
              "  .colab-df-quickchart:hover {\n",
              "    background-color: #E2EBFA;\n",
              "    box-shadow: 0px 1px 2px rgba(60, 64, 67, 0.3), 0px 1px 3px 1px rgba(60, 64, 67, 0.15);\n",
              "    fill: #174EA6;\n",
              "  }\n",
              "\n",
              "  [theme=dark] .colab-df-quickchart {\n",
              "    background-color: #3B4455;\n",
              "    fill: #D2E3FC;\n",
              "  }\n",
              "\n",
              "  [theme=dark] .colab-df-quickchart:hover {\n",
              "    background-color: #434B5C;\n",
              "    box-shadow: 0px 1px 3px 1px rgba(0, 0, 0, 0.15);\n",
              "    filter: drop-shadow(0px 1px 2px rgba(0, 0, 0, 0.3));\n",
              "    fill: #FFFFFF;\n",
              "  }\n",
              "</style>\n",
              "\n",
              "    <script>\n",
              "      async function quickchart(key) {\n",
              "        const containerElement = document.querySelector('#' + key);\n",
              "        const charts = await google.colab.kernel.invokeFunction(\n",
              "            'suggestCharts', [key], {});\n",
              "      }\n",
              "    </script>\n",
              "\n",
              "      <script>\n",
              "\n",
              "function displayQuickchartButton(domScope) {\n",
              "  let quickchartButtonEl =\n",
              "    domScope.querySelector('#df-c272cf1d-d03e-4ace-9dc1-d85ea7f85efb button.colab-df-quickchart');\n",
              "  quickchartButtonEl.style.display =\n",
              "    google.colab.kernel.accessAllowed ? 'block' : 'none';\n",
              "}\n",
              "\n",
              "        displayQuickchartButton(document);\n",
              "      </script>\n",
              "      <style>\n",
              "    .colab-df-container {\n",
              "      display:flex;\n",
              "      flex-wrap:wrap;\n",
              "      gap: 12px;\n",
              "    }\n",
              "\n",
              "    .colab-df-convert {\n",
              "      background-color: #E8F0FE;\n",
              "      border: none;\n",
              "      border-radius: 50%;\n",
              "      cursor: pointer;\n",
              "      display: none;\n",
              "      fill: #1967D2;\n",
              "      height: 32px;\n",
              "      padding: 0 0 0 0;\n",
              "      width: 32px;\n",
              "    }\n",
              "\n",
              "    .colab-df-convert:hover {\n",
              "      background-color: #E2EBFA;\n",
              "      box-shadow: 0px 1px 2px rgba(60, 64, 67, 0.3), 0px 1px 3px 1px rgba(60, 64, 67, 0.15);\n",
              "      fill: #174EA6;\n",
              "    }\n",
              "\n",
              "    [theme=dark] .colab-df-convert {\n",
              "      background-color: #3B4455;\n",
              "      fill: #D2E3FC;\n",
              "    }\n",
              "\n",
              "    [theme=dark] .colab-df-convert:hover {\n",
              "      background-color: #434B5C;\n",
              "      box-shadow: 0px 1px 3px 1px rgba(0, 0, 0, 0.15);\n",
              "      filter: drop-shadow(0px 1px 2px rgba(0, 0, 0, 0.3));\n",
              "      fill: #FFFFFF;\n",
              "    }\n",
              "  </style>\n",
              "\n",
              "      <script>\n",
              "        const buttonEl =\n",
              "          document.querySelector('#df-f029754d-c6ab-41c0-ba41-a779a05cf16d button.colab-df-convert');\n",
              "        buttonEl.style.display =\n",
              "          google.colab.kernel.accessAllowed ? 'block' : 'none';\n",
              "\n",
              "        async function convertToInteractive(key) {\n",
              "          const element = document.querySelector('#df-f029754d-c6ab-41c0-ba41-a779a05cf16d');\n",
              "          const dataTable =\n",
              "            await google.colab.kernel.invokeFunction('convertToInteractive',\n",
              "                                                     [key], {});\n",
              "          if (!dataTable) return;\n",
              "\n",
              "          const docLinkHtml = 'Like what you see? Visit the ' +\n",
              "            '<a target=\"_blank\" href=https://colab.research.google.com/notebooks/data_table.ipynb>data table notebook</a>'\n",
              "            + ' to learn more about interactive tables.';\n",
              "          element.innerHTML = '';\n",
              "          dataTable['output_type'] = 'display_data';\n",
              "          await google.colab.output.renderOutput(dataTable, element);\n",
              "          const docLink = document.createElement('div');\n",
              "          docLink.innerHTML = docLinkHtml;\n",
              "          element.appendChild(docLink);\n",
              "        }\n",
              "      </script>\n",
              "    </div>\n",
              "  </div>\n"
            ]
          },
          "metadata": {},
          "execution_count": 151
        }
      ]
    },
    {
      "cell_type": "code",
      "source": [
        "# Assuming you have already loaded the DataFrame 'temporal_df' from the CSV file\n",
        "\n",
        "# Reset the index so that \"started_at\" becomes a regular column in the DataFrame\n",
        "temporal_df.reset_index(inplace=True)\n",
        "\n",
        "# Convert the \"started_at\" column to pandas datetime format for easy manipulation\n",
        "temporal_df[\"started_at\"] = pd.to_datetime(temporal_df[\"started_at\"], infer_datetime_format=True)\n",
        "\n",
        "# Extract the month-year information from the \"started_at\" column\n",
        "temporal_df[\"month_year\"] = temporal_df[\"started_at\"].dt.to_period(\"M\")\n",
        "\n",
        "# Group the data by month-year and calculate the ride counts for each month\n",
        "ride_counts_per_month = temporal_df[\"month_year\"].value_counts().sort_index()\n",
        "\n",
        "# Create a DataFrame with all the months from May 2022 to April 2023\n",
        "all_months_years = pd.period_range(start=\"2022-05\", end=\"2023-04\", freq=\"M\")\n",
        "all_months_years_str = all_months_years.strftime(\"%Y-%m\")\n",
        "\n",
        "# Reindex the ride counts with the complete list of month-year strings and fill missing months with zero counts\n",
        "ride_counts_per_month = ride_counts_per_month.reindex(all_months_years_str, fill_value=0)\n",
        "\n",
        "# Create a DataFrame with month-year and ride count information\n",
        "ride_counts_df = pd.DataFrame({\n",
        "    \"Month-Year\": all_months_years_str,\n",
        "    \"Ride Count\": ride_counts_per_month.values\n",
        "})\n",
        "\n",
        "# Display the table of months with their corresponding counts\n",
        "print(ride_counts_df)\n",
        "\n",
        "# Plot the ride counts for each month as a bar chart\n",
        "plt.figure(figsize=(10, 6))\n",
        "plt.bar(ride_counts_per_month.index, ride_counts_per_month, color='skyblue')\n",
        "plt.xlabel(\"Month-Year\")\n",
        "plt.ylabel(\"Ride Count\")\n",
        "plt.title(\"Ride Counts per Month from May 2022 to April 2023\")\n",
        "plt.xticks(rotation=45)\n",
        "plt.tight_layout()\n",
        "plt.show()\n"
      ],
      "metadata": {
        "colab": {
          "base_uri": "https://localhost:8080/",
          "height": 833
        },
        "id": "tc9eEVuMGLGX",
        "outputId": "30821743-3b23-4199-a3ba-6103a9364e2b"
      },
      "execution_count": null,
      "outputs": [
        {
          "output_type": "stream",
          "name": "stdout",
          "text": [
            "   Month-Year  Ride Count\n",
            "0     2022-05      357093\n",
            "1     2022-06      625630\n",
            "2     2022-07      658789\n",
            "3     2022-08      617540\n",
            "4     2022-09       19189\n",
            "5     2022-10       20700\n",
            "6     2022-11       19065\n",
            "7     2022-12       20418\n",
            "8     2023-01           0\n",
            "9     2023-02           0\n",
            "10    2023-03           0\n",
            "11    2023-04           0\n"
          ]
        },
        {
          "output_type": "display_data",
          "data": {
            "text/plain": [
              "<Figure size 1000x600 with 1 Axes>"
            ],
            "image/png": "[encoded data removed]"
          },
          "metadata": {}
        }
      ]
    },
    {
      "cell_type": "code",
      "source": [
        "import pandas as pd\n",
        "import matplotlib.pyplot as plt\n",
        "from statsmodels.tsa.statespace.sarimax import SARIMAX\n",
        "import warnings\n",
        "warnings.filterwarnings(\"ignore\")\n"
      ],
      "metadata": {
        "id": "Olnk-wHIGbHy"
      },
      "execution_count": null,
      "outputs": []
    },
    {
      "cell_type": "code",
      "source": [
        "# Convert the \"started_at\" column to pandas datetime format for easy manipulation\n",
        "temporal_df[\"started_at\"] = pd.to_datetime(temporal_df[\"started_at\"], infer_datetime_format=True)\n",
        "\n",
        "# Extract the month-year information from the \"started_at\" column\n",
        "temporal_df[\"month_year\"] = temporal_df[\"started_at\"].dt.to_period(\"M\")\n",
        "\n",
        "# Group the data by month-year and calculate the ride counts for each month\n",
        "ride_counts_per_month = temporal_df[\"month_year\"].value_counts().sort_index()\n"
      ],
      "metadata": {
        "id": "lEq5LlamIyUp"
      },
      "execution_count": null,
      "outputs": []
    },
    {
      "cell_type": "code",
      "source": [
        "# Create a time series from the ride counts per month\n",
        "ride_counts_time_series = ride_counts_per_month.to_frame()\n",
        "\n",
        "# Convert the PeriodIndex to Timestamp for plotting and model training\n",
        "ride_counts_time_series.index = ride_counts_time_series.index.to_timestamp()\n"
      ],
      "metadata": {
        "id": "_XLwPfOMI025"
      },
      "execution_count": null,
      "outputs": []
    },
    {
      "cell_type": "code",
      "source": [
        "# For demonstration purposes, we will use a seasonal order of (1, 1, 1, 12)\n",
        "# You may need to adjust the order and seasonal order based on your data and analysis\n",
        "order = (1, 1, 1)\n",
        "seasonal_order = (1, 1, 1, 12)\n",
        "model = SARIMAX(ride_counts_time_series, order=order, seasonal_order=seasonal_order)\n",
        "results = model.fit()\n"
      ],
      "metadata": {
        "id": "9S9A043ZI37A"
      },
      "execution_count": null,
      "outputs": []
    },
    {
      "cell_type": "code",
      "source": [
        "\n",
        "# Step 5: Make predictions for the next six months after April 2023\n",
        "forecast_periods = 6\n",
        "last_month = ride_counts_time_series.index[-1]  # Get the last index\n",
        "forecast_index = pd.date_range(start=last_month + pd.DateOffset(months=1), periods=forecast_periods, freq=\"M\")\n",
        "forecast = results.forecast(steps=forecast_periods)\n",
        "\n",
        "# Convert the forecast to a DataFrame\n",
        "forecast_df = pd.DataFrame({\n",
        "    \"Month-Year\": forecast_index,\n",
        "    \"Ride Count Forecast\": forecast.values\n",
        "})\n",
        "\n",
        "# Display the forecasted ride counts for the next six months after April 2023\n",
        "print(forecast_df)\n"
      ],
      "metadata": {
        "colab": {
          "base_uri": "https://localhost:8080/"
        },
        "id": "djtgR3MvI6zb",
        "outputId": "92847e24-272e-4163-dc4c-18fe6e2c59cc"
      },
      "execution_count": null,
      "outputs": [
        {
          "output_type": "stream",
          "name": "stdout",
          "text": [
            "  Month-Year  Ride Count Forecast\n",
            "0 2023-01-31         24967.002274\n",
            "1 2023-02-28         25855.002274\n",
            "2 2023-03-31         19818.002274\n",
            "3 2023-04-30         27164.002274\n",
            "4 2023-05-31        372962.002274\n",
            "5 2023-06-30        641499.002274\n"
          ]
        }
      ]
    },
    {
      "cell_type": "code",
      "source": [
        "# Plot the historical ride counts and the forecasted ride counts\n",
        "plt.figure(figsize=(12, 6))\n",
        "plt.plot(ride_counts_time_series.index, ride_counts_time_series[\"month_year\"], label=\"Historical\")\n",
        "plt.plot(forecast_df[\"Month-Year\"], forecast_df[\"Ride Count Forecast\"], label=\"Forecast\", linestyle=\"--\")\n",
        "plt.xlabel(\"Month-Year\")\n",
        "plt.ylabel(\"Ride Count\")\n",
        "plt.title(\"Historical and Forecasted Ride Counts\")\n",
        "plt.legend()\n",
        "plt.xticks(rotation=45)\n",
        "plt.tight_layout()\n",
        "plt.show()\n"
      ],
      "metadata": {
        "id": "5pSipWZDJtrP",
        "outputId": "e81ede73-6b95-43a4-e54a-f4416bd539c6",
        "colab": {
          "base_uri": "https://localhost:8080/",
          "height": 607
        }
      },
      "execution_count": null,
      "outputs": [
        {
          "output_type": "display_data",
          "data": {
            "text/plain": [
              "<Figure size 1200x600 with 1 Axes>"
            ],
            "image/png": "[encoded data removed]"
          },
          "metadata": {}
        }
      ]
    }
  ],
  "metadata": {
    "colab": {
      "provenance": [],
      "include_colab_link": true
    },
    "kernelspec": {
      "display_name": "Python 3 (ipykernel)",
      "language": "python",
      "name": "python3"
    },
    "language_info": {
      "codemirror_mode": {
        "name": "ipython",
        "version": 3
      },
      "file_extension": ".py",
      "mimetype": "text/x-python",
      "name": "python",
      "nbconvert_exporter": "python",
      "pygments_lexer": "ipython3",
      "version": "3.9.13"
    }
  },
  "nbformat": 4,
  "nbformat_minor": 0
}